{
  "cells": [
    {
      "cell_type": "markdown",
      "metadata": {
        "id": "955AKC5916av"
      },
      "source": [
        "\n",
        "<br>\n",
        "<font>\n",
        "<div dir=ltr align=center>\n",
        "<img src=\"https://cdn.freebiesupply.com/logos/large/2x/sharif-logo-png-transparent.png\" width=150 height=150> <br>\n",
        "<font color=0F5298 size=7>\n",
        "Artificial Intelligence <br>\n",
        "<font color=2565AE size=5>\n",
        "Computer Engineering Department <br>\n",
        "Spring 2024<br>\n",
        "<font color=3C99D size=5>\n",
        "Practical Assignment 5 - RL <br>\n",
        "<font color=696880 size=4>\n",
        "Amirmahdi Meighani\n",
        "\n",
        "\n",
        "____"
      ]
    },
    {
      "cell_type": "markdown",
      "metadata": {
        "id": "oh9fbNuR3iSM"
      },
      "source": [
        "# Personal Data"
      ]
    },
    {
      "cell_type": "code",
      "execution_count": null,
      "metadata": {
        "id": "QRA0Z1j-3iSM"
      },
      "outputs": [],
      "source": [
        "# Set your student number and name\n",
        "student_number = None\n",
        "Name = None\n",
        "Last_Name = None"
      ]
    },
    {
      "cell_type": "markdown",
      "metadata": {
        "id": "RxRoUh-g3iSN"
      },
      "source": [
        "# Rules"
      ]
    },
    {
      "cell_type": "markdown",
      "metadata": {
        "id": "Y5znCGRG3iSN"
      },
      "source": [
        "<font color=red>\n",
        "Please run all the cells.\n",
        "</font>"
      ]
    },
    {
      "cell_type": "markdown",
      "metadata": {
        "id": "m_hgsXX23iSO"
      },
      "source": [
        "# Q1: Mountain Car (100 Points)"
      ]
    },
    {
      "cell_type": "markdown",
      "metadata": {
        "id": "EByhCUep-6tx"
      },
      "source": [
        "In this notebook we have a game called mountain car. the car is in a valley and at evey moment we can model its state using two floats as speed and location along x axis. You can control the car using three actions.\n",
        "\n",
        "0: Accelerate to the left\n",
        "\n",
        "1: Don’t accelerate\n",
        "\n",
        "2: Accelerate to the right\n",
        "\n",
        "the goal is to reach the peak of mountain in the minimum number of frames. because you get -1 reward for evey timestamp.\n",
        "\n",
        "you should model the countious enviroment with a approximate descrete one and train your agent using Q learning and SARSA algorithms.\n"
      ]
    },
    {
      "cell_type": "markdown",
      "metadata": {
        "id": "ILwMPfVneoVW"
      },
      "source": [
        "install required libraries"
      ]
    },
    {
      "cell_type": "code",
      "execution_count": null,
      "metadata": {
        "colab": {
          "base_uri": "https://localhost:8080/"
        },
        "id": "60qZfxtMFcfi",
        "outputId": "d8dd3c2a-1012-4a99-b98a-e6146806baf3"
      },
      "outputs": [
        {
          "name": "stdout",
          "output_type": "stream",
          "text": [
            "Collecting gymnasium\n",
            "  Downloading gymnasium-0.29.1-py3-none-any.whl (953 kB)\n",
            "\u001b[?25l     \u001b[90m━━━━━━━━━━━━━━━━━━━━━━━━━━━━━━━━━━━━━━━━\u001b[0m \u001b[32m0.0/953.9 kB\u001b[0m \u001b[31m?\u001b[0m eta \u001b[36m-:--:--\u001b[0m\r\u001b[2K     \u001b[91m━━━━━━━━━━━━\u001b[0m\u001b[91m╸\u001b[0m\u001b[90m━━━━━━━━━━━━━━━━━━━━━━━━━━━\u001b[0m \u001b[32m307.2/953.9 kB\u001b[0m \u001b[31m9.2 MB/s\u001b[0m eta \u001b[36m0:00:01\u001b[0m\r\u001b[2K     \u001b[90m━━━━━━━━━━━━━━━━━━━━━━━━━━━━━━━━━━━━━━━━\u001b[0m \u001b[32m953.9/953.9 kB\u001b[0m \u001b[31m18.4 MB/s\u001b[0m eta \u001b[36m0:00:00\u001b[0m\n",
            "\u001b[?25hRequirement already satisfied: numpy>=1.21.0 in /usr/local/lib/python3.10/dist-packages (from gymnasium) (1.25.2)\n",
            "Requirement already satisfied: cloudpickle>=1.2.0 in /usr/local/lib/python3.10/dist-packages (from gymnasium) (2.2.1)\n",
            "Requirement already satisfied: typing-extensions>=4.3.0 in /usr/local/lib/python3.10/dist-packages (from gymnasium) (4.10.0)\n",
            "Collecting farama-notifications>=0.0.1 (from gymnasium)\n",
            "  Downloading Farama_Notifications-0.0.4-py3-none-any.whl (2.5 kB)\n",
            "Installing collected packages: farama-notifications, gymnasium\n",
            "Successfully installed farama-notifications-0.0.4 gymnasium-0.29.1\n"
          ]
        }
      ],
      "source": [
        "!pip install numpy\n",
        "!pip install matplotlib\n",
        "!pip install gymnasium"
      ]
    },
    {
      "cell_type": "markdown",
      "metadata": {
        "id": "bX4Mt5JjevMP"
      },
      "source": [
        "## imports"
      ]
    },
    {
      "cell_type": "code",
      "execution_count": null,
      "metadata": {
        "id": "uFVi4RbPEpIt"
      },
      "outputs": [],
      "source": [
        "import gymnasium as gym\n",
        "import numpy as np\n",
        "import matplotlib.pyplot as plt\n",
        "import random\n",
        "import math"
      ]
    },
    {
      "cell_type": "code",
      "execution_count": null,
      "metadata": {
        "id": "oNK6aEBziECk"
      },
      "outputs": [],
      "source": [
        "def visualize(env):\n",
        "    '''\n",
        "    use this function to see the state of the game in the current moment\n",
        "    '''\n",
        "    env_screen = env.render()\n",
        "    plt.imshow(env_screen)\n",
        "    plt.axis('off');\n",
        "    title = 'speed is ' + str(env.unwrapped.state[1])\n",
        "\n",
        "    plt.title(title)\n",
        "    plt.show()"
      ]
    },
    {
      "cell_type": "markdown",
      "metadata": {
        "id": "vA0Bn0cIe0E2"
      },
      "source": [
        "## Q Learning\n",
        "\n",
        "in this question we have a countious enviroment but you can approximate it as a discrete enviormnet then learn and act according to that.\n",
        "\n",
        "you can see the information of game below."
      ]
    },
    {
      "cell_type": "code",
      "execution_count": null,
      "metadata": {
        "id": "n0ESPUWjekf7"
      },
      "outputs": [],
      "source": [
        "env = gym.make(\"MountainCar-v0\",render_mode='rgb_array',max_episode_steps=200)\n",
        "spec = gym.spec('MountainCar-v0')"
      ]
    },
    {
      "cell_type": "code",
      "execution_count": null,
      "metadata": {
        "colab": {
          "base_uri": "https://localhost:8080/",
          "height": 511
        },
        "id": "M9HhYUCQFZkU",
        "outputId": "4253baac-a8c2-49e2-8bf7-5d96984e6ff5"
      },
      "outputs": [
        {
          "name": "stdout",
          "output_type": "stream",
          "text": [
            "Action Space: Discrete(3)\n",
            "Observation Space: Box([-1.2  -0.07], [0.6  0.07], (2,), float32)\n",
            "Max Episode Steps: 200\n",
            "Nondeterministic: False\n",
            "Reward Range: (-inf, inf)\n",
            "Reward Threshold: -110.0\n",
            "\n"
          ]
        },
        {
          "data": {
            "image/png": "[encoded data removed]",
            "text/plain": [
              "<Figure size 640x480 with 1 Axes>"
            ]
          },
          "metadata": {},
          "output_type": "display_data"
        }
      ],
      "source": [
        "print(f\"Action Space: {env.action_space}\")\n",
        "print(f\"Observation Space: {env.observation_space}\")\n",
        "print(f\"Max Episode Steps: {spec.max_episode_steps}\")\n",
        "print(f\"Nondeterministic: {spec.nondeterministic}\")\n",
        "print(f\"Reward Range: {env.reward_range}\")\n",
        "print(f\"Reward Threshold: {spec.reward_threshold}\\n\")\n",
        "env.reset()\n",
        "visualize(env)"
      ]
    },
    {
      "cell_type": "markdown",
      "metadata": {},
      "source": [
        "Observation Space:\n",
        "The observation is a ndarray with shape (2,) where the elements correspond to the following:\n",
        "\n",
        "| Num |              Observation             |  Min  |  Max |\n",
        "|:---:|:------------------------------------:|:-----:|:----:|\n",
        "|  0  | position of the car along the x-axis |  -1.2 |  0.6 |\n",
        "|  1  | velocity of the car                  | -0.07 | 0.07 |\n",
        "\n",
        "Action Space:\n",
        "There are 3 discrete deterministic actions:\n",
        "\n",
        "0: Accelerate to the left\n",
        "\n",
        "1: Don’t accelerate\n",
        "\n",
        "2: Accelerate to the right"
      ]
    },
    {
      "cell_type": "markdown",
      "metadata": {
        "id": "CD9PXOLcC8bt"
      },
      "source": [
        "You can play in this env yourself!!!\n",
        "\n",
        "Try some actions and visulize the env after every 5 action. use env.step(action) function to do actions. print output of some step function. It returns five values :\n",
        "\n",
        "new_state, reward, is_terminated ,is_truncated ,extra_info\n",
        "\n",
        "new state after the action, reward for that action in that step, is the game terminated by reaching the goal, is the game finished by reaching 200 episode limit that is the default in this game, and some possible extra info that we don't use.\n"
      ]
    },
    {
      "cell_type": "code",
      "execution_count": null,
      "metadata": {
        "id": "SjeV_a4mDJyz"
      },
      "outputs": [],
      "source": [
        "env.reset() # You can use this function to reset your environment.\n",
        "######################## YOUR CODE HERE ########################\n",
        "\n",
        "\n",
        "######################## END YOUR CODE #########################\n",
        "env.reset()"
      ]
    },
    {
      "cell_type": "markdown",
      "metadata": {
        "id": "5tw6h66qfzq2"
      },
      "source": [
        "the state consists of two floats.  first one is position in x axis and second one is speed. in the next cell we will write our agent. First we need to convert continuous state to descrete so complete the relevant functions. after that we need to train our agent using Q_learning formula:\n",
        "\n",
        "\n",
        "$$ Q(s,a) \\leftarrow Q(s,a) + \\alpha \\left( r + \\gamma \\max_{a'} Q(s',a') - Q(s,a) \\right) $$\n",
        "\n",
        "After training we use create policy to save your best actions. Then evaluate your policy."
      ]
    },
    {
      "cell_type": "code",
      "execution_count": null,
      "metadata": {
        "id": "k6ZkKpjXJle-"
      },
      "outputs": [],
      "source": [
        "\n",
        "class MountainCarQL:\n",
        "\n",
        "    def __init__(self, env, discrete_size=20):\n",
        "\n",
        "        self.discrete_size = discrete_size # number of states we use instead of each continuous argument of state\n",
        "        self.env = env\n",
        "        self.q_values = self.create_q_values_list()\n",
        "        self.policy = {}\n",
        "\n",
        "\n",
        "        ######################## YOUR CODE HERE ########################\n",
        "        # Declare any variables you need.\n",
        "\n",
        "        ######################## END YOUR CODE #########################\n",
        "\n",
        "\n",
        "\n",
        "\n",
        "    def create_q_values_list(self):\n",
        "        # initialize q_table and return it\n",
        "        # use self.discrete_size\n",
        "        ######################## YOUR CODE HERE ########################\n",
        "\n",
        "\n",
        "\n",
        "        ######################## END YOUR CODE #########################\n",
        "\n",
        "\n",
        "\n",
        "    def get_discrete_state(self, state):\n",
        "        ######################## YOUR CODE HERE ########################\n",
        "        # use self.discrete_size\n",
        "\n",
        "        ######################## END YOUR CODE #########################\n",
        "\n",
        "\n",
        "\n",
        "    def learn(self, num_episodes, alpha, gamma, epsilon):\n",
        "        ######################## YOUR CODE HERE ########################\n",
        "\n",
        "\n",
        "        ######################## END YOUR CODE #########################\n",
        "\n",
        "\n",
        "\n",
        "    def create_policy(self):\n",
        "        \"\"\"\n",
        "        Create your policy in this function after your agent learns the q_values.\n",
        "        \"\"\"\n",
        "        ######################## YOUR CODE HERE ########################\n",
        "\n",
        "\n",
        "\n",
        "        ######################## END YOUR CODE #########################\n",
        "\n",
        "    def act(self):\n",
        "        \"\"\"\n",
        "        Move your agent one step according to your policy.\n",
        "        \"\"\"\n",
        "        ######################## YOUR CODE HERE ########################\n",
        "\n",
        "        ######################## END YOUR CODE #########################\n",
        "\n",
        "\n",
        "\n",
        "    def evaluate(self, num_episodes):\n",
        "        \"\"\"\n",
        "        Sample num_episodes episodes from your agent that acts according to your policy.\n",
        "        Then return the average rewards it gets and percentage of episodes that your car reached the goal.\n",
        "\n",
        "        Inputs:\n",
        "            - num_episodes: Number of episodes for sampling.\n",
        "        Returns:\n",
        "            tuple: average reward and win percentage\n",
        "        \"\"\"\n",
        "        ######################## YOUR CODE HERE ########################\n",
        "\n",
        "        ######################## END YOUR CODE #########################"
      ]
    },
    {
      "cell_type": "markdown",
      "metadata": {
        "id": "U87A5pAcAekG"
      },
      "source": [
        "train your agent with good parameters"
      ]
    },
    {
      "cell_type": "code",
      "execution_count": null,
      "metadata": {
        "id": "b3aLZtL4R3hZ"
      },
      "outputs": [],
      "source": [
        "EPISODES = None\n",
        "LEARNING_RATE = None\n",
        "DISCOUNT = None\n",
        "EPSILON = None\n",
        "DISCRETE_SIZE = None\n",
        "\n",
        "\n",
        "mountain_car_ql = MountainCarQL(env,discrete_size=DISCRETE_SIZE)\n",
        "mountain_car_ql.learn(EPISODES, LEARNING_RATE, DISCOUNT, EPSILON)\n"
      ]
    },
    {
      "cell_type": "markdown",
      "metadata": {
        "id": "XQqLVGYWAkFv"
      },
      "source": [
        "evaluate your agent with at least 200 episodes. your average score must be more than -170."
      ]
    },
    {
      "cell_type": "code",
      "execution_count": null,
      "metadata": {
        "colab": {
          "base_uri": "https://localhost:8080/"
        },
        "id": "r5UtVnyb2q4d",
        "outputId": "e5449d73-a4d6-4a6d-f594-f8b68c4640ea"
      },
      "outputs": [
        {
          "name": "stdout",
          "output_type": "stream",
          "text": [
            "(-141.83666666666667, 97.33333333333333)\n"
          ]
        }
      ],
      "source": [
        "# todo\n"
      ]
    },
    {
      "cell_type": "markdown",
      "metadata": {
        "id": "O99bOBwa-j2B"
      },
      "source": [
        "show the path your car took for only one episode. Use visualize function every 10 frame."
      ]
    },
    {
      "cell_type": "code",
      "execution_count": null,
      "metadata": {
        "id": "mA7z2wAw-pHf"
      },
      "outputs": [],
      "source": [
        "# todo"
      ]
    },
    {
      "cell_type": "markdown",
      "metadata": {
        "id": "D_WgKpoRA7sq"
      },
      "source": [
        "## SARSA\n",
        "now we want to use sarsa algorithm here instead of Q learning. The update rule is:\n",
        "\n",
        "$$Q(S_t,A_t) \\leftarrow Q(S_t,A_t) + \\alpha \\left( R_{t+1} + \\gamma Q(S_{t+1},A_{t+1}) - Q(S_t,A_t) \\right)$$"
      ]
    },
    {
      "cell_type": "code",
      "execution_count": null,
      "metadata": {
        "id": "vwNMbsQ9Y7Fj"
      },
      "outputs": [],
      "source": [
        "class MountainCarSarsa(MountainCarQL):\n",
        "\n",
        "    def learn(self, num_episodes, alpha, gamma, epsilon):\n",
        "    ######################## YOUR CODE HERE ########################\n",
        "\n",
        "\n",
        "    ######################## END YOUR CODE #########################\n"
      ]
    },
    {
      "cell_type": "markdown",
      "metadata": {
        "id": "y-d_DyiJBnzd"
      },
      "source": [
        "train your agent with good parameters"
      ]
    },
    {
      "cell_type": "code",
      "execution_count": null,
      "metadata": {
        "id": "yteJaVuaB1l5"
      },
      "outputs": [],
      "source": [
        "EPISODES = None\n",
        "LEARNING_RATE = None\n",
        "DISCOUNT = None\n",
        "EPSILON = None\n",
        "DISCRETE_SIZE = None\n",
        "\n",
        "mountain_car_sarsa = MountainCarSarsa(env,discrete_size=DISCRETE_SIZE)\n",
        "mountain_car_sarsa.learn(EPISODES, LEARNING_RATE, DISCOUNT, EPSILON)\n"
      ]
    },
    {
      "cell_type": "markdown",
      "metadata": {
        "id": "FlcSbeBJCFVZ"
      },
      "source": [
        "evaluate your agent with at list 200 episodes. your average score must be more than -175."
      ]
    },
    {
      "cell_type": "code",
      "execution_count": null,
      "metadata": {
        "colab": {
          "base_uri": "https://localhost:8080/"
        },
        "id": "OZky2NkzCFVh",
        "outputId": "4698ba77-82e8-4d0a-a9d7-6ad7be0013f9"
      },
      "outputs": [
        {
          "name": "stdout",
          "output_type": "stream",
          "text": [
            "(-174.89333333333335, 69.66666666666667)\n"
          ]
        }
      ],
      "source": [
        "# todo\n",
        "\n"
      ]
    },
    {
      "cell_type": "markdown",
      "metadata": {
        "id": "JTtetyjJCFVh"
      },
      "source": [
        "show the path your car took for only one episode. Use visualize function every 10 frame."
      ]
    },
    {
      "cell_type": "code",
      "execution_count": null,
      "metadata": {
        "id": "z3VSpz43CFVh"
      },
      "outputs": [],
      "source": [
        "# todo"
      ]
    },
    {
      "cell_type": "markdown",
      "metadata": {
        "id": "3eiWWLd7GEuf"
      },
      "source": [
        "Is there any difference between the two algorithms? Compare results and explain why.\n",
        "\n",
        "Answer:...\n",
        "\n"
      ]
    }
  ],
  "metadata": {
    "accelerator": "GPU",
    "colab": {
      "gpuType": "T4",
      "provenance": []
    },
    "kernelspec": {
      "display_name": "Python 3",
      "name": "python3"
    },
    "language_info": {
      "name": "python"
    }
  },
  "nbformat": 4,
  "nbformat_minor": 0
}
