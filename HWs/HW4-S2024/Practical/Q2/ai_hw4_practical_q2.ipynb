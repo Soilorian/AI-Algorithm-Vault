{
 "cells": [
  {
   "cell_type": "markdown",
   "metadata": {
    "id": "VU4moqMhIoyr"
   },
   "source": [
    "<br>\n",
    "<font>\n",
    "<div dir=ltr align=center>\n",
    "<img src=\"https://cdn.freebiesupply.com/logos/large/2x/sharif-logo-png-transparent.png\" width=150 height=150> <br>\n",
    "<font color=0F5298 size=7>\n",
    "    Artificial Intelligence <br>\n",
    "<font color=2565AE size=5>\n",
    "    Computer Engineering Department <br>\n",
    "    Spring 2024<br>\n",
    "<font color=3C99D size=5>\n",
    "    Practical Assignment 4 - Machine Learning - Classification <br>\n",
    "<font color=0CBCDF size=4>\n",
    "   &#x1F335; Amirhossein Akbari  &#x1F335;\n",
    "</div>\n",
    "\n",
    "____"
   ]
  },
  {
   "cell_type": "markdown",
   "metadata": {
    "id": "dFTwS6n5URPb"
   },
   "source": [
    "<font color=9999FF size=4>\n",
    "&#x1F388; Full Name : Mahdi AliNejad\n",
    "<br>\n",
    "<font color=9999FF size=4>\n",
    "&#x1F388; Student Number : 401106266"
   ]
  },
  {
   "cell_type": "markdown",
   "metadata": {
    "id": "IiM06_OmL7mK"
   },
   "source": [
    "<font color=0080FF size=3>\n",
    "This Jupyter Notebook is dedicated to exploring a classification task focused on predicting traveler satisfaction levels with airline services. In our scenario, we aim to classify whether a passenger is satisfied or not based on various features related to their travel experience. To tackle this task, we will develop and compare three different machine learning models:\n",
    "</font>\n",
    "<br>\n",
    "\n",
    "1. **Naive Bayes Classifier**: <font color=66B2FF size=2>We'll start by implementing a Naive Bayes classifier without the use of high-level libraries, understanding its mechanics and applying it to our dataset.</font>\n",
    "\n",
    "2. **Decision Tree Classifier**: <font color=66B2FF size=2>Next, we will build a Decision Tree model from the ground up, enabling us to delve into how decisions are made and splits are performed based on the data.</font>\n",
    "\n",
    "<font color=0080FF size=3>\n",
    "For each model, we'll go through the process of data preprocessing, model training, and evaluation to compare their performance. By the end of this notebook, you should have a clear understanding of these models' workings and their effectiveness in predicting airline passenger satisfaction.\n",
    "</font>"
   ]
  },
  {
   "cell_type": "markdown",
   "metadata": {
    "id": "7ULfSjsro_4s"
   },
   "source": [
    "1. <font color=red size=3>**Run All Cells Before Submission**</font>: <font color=FF99CC size=2>Before saving and submitting your notebook, please ensure you run all cells from start to finish. This practice guarantees that your notebook is self-consistent and can be evaluated correctly by others.</font>\n",
    "\n",
    "2. <font color=red size=3>**Model Evaluation and Scoring Criteria**</font>: <font color=FF99CC size=2>To receive full marks for a model implementation, the accuracy of your custom model must be within 5 percentage points of the corresponding scikit-learn model's accuracy. Should your model's accuracy fall more than <mark>5 percentage</mark> points below that of the scikit-learn model, or if the scikit-learn model's accuracy is below 80%, points will be deducted accordingly.</font>"
   ]
  },
  {
   "cell_type": "markdown",
   "metadata": {},
   "source": [
    "<font color=#ffb578 size=3>\n",
    "you are free to modify, add, or remove any cells as you see fit to complete your tasks. Feel free to change any of the provided code or content to better suit your understanding and approach to the problems.\n",
    "\n",
    "- **Questions**: If you have any questions or require clarifications as you work through the notebook, please do not hesitate to ask. You can post your queries on Quera or reach out via Telegram.\n",
    "- **Feedback**: We encourage you to seek feedback and engage in discussions to enhance your learning experience and improve your solutions.\n",
    "</font>"
   ]
  },
  {
   "cell_type": "markdown",
   "metadata": {
    "id": "c_QEgiwhVGFz"
   },
   "source": [
    "Importing necessary libraries"
   ]
  },
  {
   "cell_type": "code",
   "execution_count": 1,
   "metadata": {
    "_cell_guid": "b1076dfc-b9ad-4769-8c92-a6c4dae69d19",
    "_uuid": "8f2839f25d086af736a60e9eeb907d3b93b6e0e5",
    "id": "AbgV1TkxAFGW",
    "trusted": true,
    "ExecuteTime": {
     "end_time": "2024-06-07T18:38:40.240514Z",
     "start_time": "2024-06-07T18:38:39.873776Z"
    }
   },
   "outputs": [],
   "source": [
    "import math\n",
    "import os\n",
    "import pandas as pd\n",
    "import pandas.api.types as ptypes\n",
    "import matplotlib.pyplot as plt\n",
    "import seaborn as sns\n",
    "from sklearn.model_selection import train_test_split\n",
    "from sklearn.metrics import classification_report, confusion_matrix\n",
    "import numpy as np\n",
    "from collections import Counter\n",
    "from collections import OrderedDict"
   ]
  },
  {
   "cell_type": "markdown",
   "metadata": {
    "id": "mQFg_wzMAFGZ"
   },
   "source": [
    "Before proceeding, please execute the cell below to download the dataset if you're using Kaggle or Colab; if running locally, utilize the dataset in the 'HW' folder."
   ]
  },
  {
   "cell_type": "code",
   "execution_count": 2,
   "metadata": {
    "id": "j2n2dfz5AFGb",
    "trusted": true,
    "ExecuteTime": {
     "end_time": "2024-06-07T18:38:45.137680Z",
     "start_time": "2024-06-07T18:38:40.241513Z"
    }
   },
   "outputs": [],
   "source": [
    "current_path = os.getcwd()\n",
    "data_url = \"https://www.dropbox.com/scl/fi/75xu0qz933plnpid1uplz/AI-HW4-Q2-Data.csv?rlkey=47o5ksm1qyoabswahequk7t1d&dl=0\"\n",
    "data_path = os.path.join(current_path, \"Dataset.csv\")\n",
    "!wget -q -O \"{data_path}\" \"{data_url}\""
   ]
  },
  {
   "cell_type": "markdown",
   "metadata": {
    "id": "s4-fgsUxAFGc"
   },
   "source": [
    "# Data Exploration (5 point)\n",
    "In this section, we perform some data exploration to get a better understanding of the data."
   ]
  },
  {
   "cell_type": "markdown",
   "metadata": {
    "id": "0D6is7_XAFGd"
   },
   "source": [
    "## Task1: Load and Inspect the Dataset (2 point)\n",
    "Load the train dataset as a dataframe and show the first 10 rows of the dataframe"
   ]
  },
  {
   "cell_type": "code",
   "execution_count": 3,
   "metadata": {
    "colab": {
     "base_uri": "https://localhost:8080/",
     "height": 571
    },
    "id": "7opFrctRAFGe",
    "outputId": "5b82785e-ea1f-4b05-83c2-bf5f92fa6aa5",
    "trusted": true,
    "ExecuteTime": {
     "end_time": "2024-06-07T18:38:45.205895Z",
     "start_time": "2024-06-07T18:38:45.139689Z"
    }
   },
   "outputs": [
    {
     "data": {
      "text/plain": "       Customer Type   Type of Travel     Class  Flight Distance  \\\n0     Loyal Customer  Business travel  Business             1727   \n1     Loyal Customer  Personal Travel       Eco             1546   \n2  disloyal Customer  Business travel       Eco             1086   \n3     Loyal Customer  Business travel  Business             2644   \n4     Loyal Customer  Business travel       Eco              302   \n5     Loyal Customer  Business travel       Eco              125   \n6     Loyal Customer  Business travel  Business              248   \n7  disloyal Customer  Business travel       Eco              547   \n8     Loyal Customer  Business travel  Eco Plus              472   \n9     Loyal Customer  Business travel  Business             2875   \n\n   Inflight wifi service  Ease of Online booking  Online boarding  \\\n0                      1                       1                4   \n1                      3                       3                3   \n2                      5                       5                5   \n3                      2                       5                4   \n4                      4                       1                3   \n5                      5                       2                5   \n6                      3                       3                5   \n7                      2                       2                2   \n8                      4                       1                4   \n9                      2                       4                4   \n\n   Seat comfort  Inflight entertainment             satisfaction  \n0             5                       5                satisfied  \n1             2                       2  neutral or dissatisfied  \n2             1                       1                satisfied  \n3             3                       2  neutral or dissatisfied  \n4             4                       4  neutral or dissatisfied  \n5             5                       5                satisfied  \n6             5                       5                satisfied  \n7             1                       1  neutral or dissatisfied  \n8             4                       4                satisfied  \n9             4                       5                satisfied  ",
      "text/html": "<div>\n<style scoped>\n    .dataframe tbody tr th:only-of-type {\n        vertical-align: middle;\n    }\n\n    .dataframe tbody tr th {\n        vertical-align: top;\n    }\n\n    .dataframe thead th {\n        text-align: right;\n    }\n</style>\n<table border=\"1\" class=\"dataframe\">\n  <thead>\n    <tr style=\"text-align: right;\">\n      <th></th>\n      <th>Customer Type</th>\n      <th>Type of Travel</th>\n      <th>Class</th>\n      <th>Flight Distance</th>\n      <th>Inflight wifi service</th>\n      <th>Ease of Online booking</th>\n      <th>Online boarding</th>\n      <th>Seat comfort</th>\n      <th>Inflight entertainment</th>\n      <th>satisfaction</th>\n    </tr>\n  </thead>\n  <tbody>\n    <tr>\n      <th>0</th>\n      <td>Loyal Customer</td>\n      <td>Business travel</td>\n      <td>Business</td>\n      <td>1727</td>\n      <td>1</td>\n      <td>1</td>\n      <td>4</td>\n      <td>5</td>\n      <td>5</td>\n      <td>satisfied</td>\n    </tr>\n    <tr>\n      <th>1</th>\n      <td>Loyal Customer</td>\n      <td>Personal Travel</td>\n      <td>Eco</td>\n      <td>1546</td>\n      <td>3</td>\n      <td>3</td>\n      <td>3</td>\n      <td>2</td>\n      <td>2</td>\n      <td>neutral or dissatisfied</td>\n    </tr>\n    <tr>\n      <th>2</th>\n      <td>disloyal Customer</td>\n      <td>Business travel</td>\n      <td>Eco</td>\n      <td>1086</td>\n      <td>5</td>\n      <td>5</td>\n      <td>5</td>\n      <td>1</td>\n      <td>1</td>\n      <td>satisfied</td>\n    </tr>\n    <tr>\n      <th>3</th>\n      <td>Loyal Customer</td>\n      <td>Business travel</td>\n      <td>Business</td>\n      <td>2644</td>\n      <td>2</td>\n      <td>5</td>\n      <td>4</td>\n      <td>3</td>\n      <td>2</td>\n      <td>neutral or dissatisfied</td>\n    </tr>\n    <tr>\n      <th>4</th>\n      <td>Loyal Customer</td>\n      <td>Business travel</td>\n      <td>Eco</td>\n      <td>302</td>\n      <td>4</td>\n      <td>1</td>\n      <td>3</td>\n      <td>4</td>\n      <td>4</td>\n      <td>neutral or dissatisfied</td>\n    </tr>\n    <tr>\n      <th>5</th>\n      <td>Loyal Customer</td>\n      <td>Business travel</td>\n      <td>Eco</td>\n      <td>125</td>\n      <td>5</td>\n      <td>2</td>\n      <td>5</td>\n      <td>5</td>\n      <td>5</td>\n      <td>satisfied</td>\n    </tr>\n    <tr>\n      <th>6</th>\n      <td>Loyal Customer</td>\n      <td>Business travel</td>\n      <td>Business</td>\n      <td>248</td>\n      <td>3</td>\n      <td>3</td>\n      <td>5</td>\n      <td>5</td>\n      <td>5</td>\n      <td>satisfied</td>\n    </tr>\n    <tr>\n      <th>7</th>\n      <td>disloyal Customer</td>\n      <td>Business travel</td>\n      <td>Eco</td>\n      <td>547</td>\n      <td>2</td>\n      <td>2</td>\n      <td>2</td>\n      <td>1</td>\n      <td>1</td>\n      <td>neutral or dissatisfied</td>\n    </tr>\n    <tr>\n      <th>8</th>\n      <td>Loyal Customer</td>\n      <td>Business travel</td>\n      <td>Eco Plus</td>\n      <td>472</td>\n      <td>4</td>\n      <td>1</td>\n      <td>4</td>\n      <td>4</td>\n      <td>4</td>\n      <td>satisfied</td>\n    </tr>\n    <tr>\n      <th>9</th>\n      <td>Loyal Customer</td>\n      <td>Business travel</td>\n      <td>Business</td>\n      <td>2875</td>\n      <td>2</td>\n      <td>4</td>\n      <td>4</td>\n      <td>4</td>\n      <td>5</td>\n      <td>satisfied</td>\n    </tr>\n  </tbody>\n</table>\n</div>"
     },
     "execution_count": 3,
     "metadata": {},
     "output_type": "execute_result"
    }
   ],
   "source": [
    "# Load dataset and display the first 10 rows\n",
    "# TODO\n",
    "df = pd.read_csv(\"Dataset.csv\")\n",
    "df.head(10)"
   ]
  },
  {
   "cell_type": "markdown",
   "metadata": {
    "id": "mo8LOXwvAFGe"
   },
   "source": [
    "## Task 2: Dataset Overview (4 point)\n",
    "Perform an initial exploration of the dataset to understand its structure, including the number of features, rows, and the types of data (numerical or categorical) it contains. Use methods like [.info()](https://pandas.pydata.org/docs/reference/api/pandas.DataFrame.info.html) and [.describe()](https://pandas.pydata.org/pandas-docs/stable/reference/api/pandas.DataFrame.describe.html) for this purpose."
   ]
  },
  {
   "cell_type": "code",
   "execution_count": 4,
   "metadata": {
    "colab": {
     "base_uri": "https://localhost:8080/"
    },
    "id": "OxqTxOkNAFGe",
    "outputId": "64e041c1-a018-478b-f5ee-8a896c2bf69f",
    "trusted": true,
    "ExecuteTime": {
     "end_time": "2024-06-07T18:38:45.235867Z",
     "start_time": "2024-06-07T18:38:45.206901Z"
    }
   },
   "outputs": [
    {
     "name": "stdout",
     "output_type": "stream",
     "text": [
      "(25000, 10)\n",
      "<class 'pandas.core.frame.DataFrame'>\n",
      "RangeIndex: 25000 entries, 0 to 24999\n",
      "Data columns (total 10 columns):\n",
      " #   Column                  Non-Null Count  Dtype \n",
      "---  ------                  --------------  ----- \n",
      " 0   Customer Type           25000 non-null  object\n",
      " 1   Type of Travel          25000 non-null  object\n",
      " 2   Class                   25000 non-null  object\n",
      " 3   Flight Distance         25000 non-null  int64 \n",
      " 4   Inflight wifi service   25000 non-null  int64 \n",
      " 5   Ease of Online booking  25000 non-null  int64 \n",
      " 6   Online boarding         25000 non-null  int64 \n",
      " 7   Seat comfort            25000 non-null  int64 \n",
      " 8   Inflight entertainment  25000 non-null  int64 \n",
      " 9   satisfaction            25000 non-null  object\n",
      "dtypes: int64(6), object(4)\n",
      "memory usage: 1.9+ MB\n"
     ]
    }
   ],
   "source": [
    "# TODO: Use df.shape to print the number of rows and columns in the dataset.\n",
    "# - Display the shape of the dataset (number of rows and columns)\n",
    "print(df.shape)\n",
    "\n",
    "# TODO: Use df.info() to provide a summary of the dataframe, focusing on non-null counts and data types for each column.\n",
    "# - Display a concise summary of the dataframe, including the number of non-null values in each column\n",
    "df.info()"
   ]
  },
  {
   "cell_type": "markdown",
   "metadata": {
    "id": "QgTP4O7LAFGf"
   },
   "source": [
    "## Task 3: Distribution and Analysis (4 point)\n",
    "Visualize the distribution of both numerical and categorical features in the dataset using [histograms](https://matplotlib.org/stable/gallery/statistics/hist.html) for numerical data and [bar charts](https://matplotlib.org/stable/api/_as_gen/matplotlib.pyplot.bar.html) for categorical data. Analyze these distributions to identify any patterns, outliers, or anomalies in the data."
   ]
  },
  {
   "cell_type": "code",
   "execution_count": 5,
   "metadata": {
    "colab": {
     "base_uri": "https://localhost:8080/",
     "height": 905
    },
    "id": "Wdt8nSlkAFGf",
    "outputId": "02dd4f8c-93f2-43c8-c100-7ba43ffc7eb5",
    "trusted": true,
    "ExecuteTime": {
     "end_time": "2024-06-07T18:38:47.928319Z",
     "start_time": "2024-06-07T18:38:45.236873Z"
    }
   },
   "outputs": [
    {
     "data": {
      "text/plain": "<Figure size 1500x2000 with 10 Axes>",
      "image/png": "[encoded data removed]"
     },
     "metadata": {},
     "output_type": "display_data"
    }
   ],
   "source": [
    "# TODO: Plot Distributions for Numerical Features\n",
    "# - Identify and separate numerical columns.\n",
    "int_columns = df.select_dtypes(include=['int64']).columns\n",
    "object_columns = df.select_dtypes(include=['object']).columns\n",
    "num_of_columns = len(int_columns) + len(object_columns)\n",
    "# - Determine the layout dimensions for subplots based on the number of numerical columns.\n",
    "columns = int(math.sqrt(num_of_columns))\n",
    "rows = math.ceil(math.sqrt(num_of_columns))\n",
    "f, ax = plt.subplots(ncols=columns, nrows=rows, figsize=(15, 20))\n",
    "ax: list[list[plt.Axes]]\n",
    "# - Use histograms to visualize the distribution of each numerical feature.\n",
    "i = 0\n",
    "j = 0\n",
    "for c in int_columns:\n",
    "    df[c].plot(kind='hist', title=c, bins=30, ax=ax[i][j])\n",
    "    j += 1\n",
    "    if j >= columns:\n",
    "        j = 0\n",
    "        i += 1\n",
    "        if i >= rows:\n",
    "            break\n",
    "\n",
    "# TODO: Visualize Categorical Features\n",
    "# - Exclude the target variable \"satisfaction\" and identify categorical columns.\n",
    "# - Calculate layout dimensions for subplots based on the number of categorical columns.\n",
    "# - Use bar charts to show the distribution of each categorical feature, adjusting subplot dimensions as needed.\n",
    "for c in object_columns:\n",
    "    df[c].hist(ax=ax[i][j])\n",
    "    j += 1\n",
    "    if j >= columns:\n",
    "        j = 0\n",
    "        i += 1\n",
    "        if i >= rows:\n",
    "            break\n",
    "\n",
    "while i < rows:\n",
    "    while j < columns:\n",
    "        ax[i][j].remove()\n",
    "        j += 1\n",
    "    i += 1\n",
    "\n",
    "plt.tight_layout()\n",
    "plt.show()"
   ]
  },
  {
   "cell_type": "markdown",
   "metadata": {
    "id": "OgZi8XHxAFGg"
   },
   "source": [
    "# Pre-processing (15 pint)\n",
    "In this section, we perform some pre-processing to make the data ready for models."
   ]
  },
  {
   "cell_type": "markdown",
   "metadata": {
    "id": "_0LPz5c2AFGh"
   },
   "source": [
    "## Task 1: Handling Missing Values (2 point)\n",
    "In this task, we will handle missing values by [dropping](https://pandas.pydata.org/docs/reference/api/pandas.DataFrame.drop.html) records that contain missing values."
   ]
  },
  {
   "cell_type": "code",
   "execution_count": 6,
   "metadata": {
    "id": "2P_dgekiAFGh",
    "trusted": true,
    "ExecuteTime": {
     "end_time": "2024-06-07T18:38:47.946656Z",
     "start_time": "2024-06-07T18:38:47.929325Z"
    }
   },
   "outputs": [],
   "source": [
    "# TODO: Remove any rows in the dataset that contain missing values.\n",
    "df = df.dropna()"
   ]
  },
  {
   "cell_type": "markdown",
   "metadata": {
    "id": "0QEc77QGAFGi"
   },
   "source": [
    "## Task 2: Converting Categorical Variables to Numeric (7 point)\n",
    "We will use [one-hot encoding](https://www.kdnuggets.com/2023/07/pandas-onehot-encode-data.html) to convert categorical variables into a format that can be provided to ML algorithms. Also convert the categorical target variable 'satisfaction' into numeric format, where 'satisfied' is mapped to 1 and 'neutral or dissatisfied' is mapped to 0."
   ]
  },
  {
   "cell_type": "code",
   "execution_count": 7,
   "metadata": {
    "id": "26ZbJtJ6AFGj",
    "trusted": true,
    "ExecuteTime": {
     "end_time": "2024-06-07T18:38:47.986434Z",
     "start_time": "2024-06-07T18:38:47.947663Z"
    }
   },
   "outputs": [
    {
     "data": {
      "text/plain": "   Flight Distance  Inflight wifi service  Ease of Online booking  \\\n0             1727                      1                       1   \n1             1546                      3                       3   \n2             1086                      5                       5   \n3             2644                      2                       5   \n4              302                      4                       1   \n5              125                      5                       2   \n6              248                      3                       3   \n7              547                      2                       2   \n8              472                      4                       1   \n9             2875                      2                       4   \n\n   Online boarding  Seat comfort  Inflight entertainment  satisfaction_binary  \\\n0                4             5                       5                    1   \n1                3             2                       2                    0   \n2                5             1                       1                    1   \n3                4             3                       2                    0   \n4                3             4                       4                    0   \n5                5             5                       5                    1   \n6                5             5                       5                    1   \n7                2             1                       1                    0   \n8                4             4                       4                    1   \n9                4             4                       5                    1   \n\n   Customer Type_Loyal Customer  Customer Type_disloyal Customer  \\\n0                             1                                0   \n1                             1                                0   \n2                             0                                1   \n3                             1                                0   \n4                             1                                0   \n5                             1                                0   \n6                             1                                0   \n7                             0                                1   \n8                             1                                0   \n9                             1                                0   \n\n   Type of Travel_Business travel  Type of Travel_Personal Travel  \\\n0                               1                               0   \n1                               0                               1   \n2                               1                               0   \n3                               1                               0   \n4                               1                               0   \n5                               1                               0   \n6                               1                               0   \n7                               1                               0   \n8                               1                               0   \n9                               1                               0   \n\n   Class_Business  Class_Eco  Class_Eco Plus  \n0               1          0               0  \n1               0          1               0  \n2               0          1               0  \n3               1          0               0  \n4               0          1               0  \n5               0          1               0  \n6               1          0               0  \n7               0          1               0  \n8               0          0               1  \n9               1          0               0  ",
      "text/html": "<div>\n<style scoped>\n    .dataframe tbody tr th:only-of-type {\n        vertical-align: middle;\n    }\n\n    .dataframe tbody tr th {\n        vertical-align: top;\n    }\n\n    .dataframe thead th {\n        text-align: right;\n    }\n</style>\n<table border=\"1\" class=\"dataframe\">\n  <thead>\n    <tr style=\"text-align: right;\">\n      <th></th>\n      <th>Flight Distance</th>\n      <th>Inflight wifi service</th>\n      <th>Ease of Online booking</th>\n      <th>Online boarding</th>\n      <th>Seat comfort</th>\n      <th>Inflight entertainment</th>\n      <th>satisfaction_binary</th>\n      <th>Customer Type_Loyal Customer</th>\n      <th>Customer Type_disloyal Customer</th>\n      <th>Type of Travel_Business travel</th>\n      <th>Type of Travel_Personal Travel</th>\n      <th>Class_Business</th>\n      <th>Class_Eco</th>\n      <th>Class_Eco Plus</th>\n    </tr>\n  </thead>\n  <tbody>\n    <tr>\n      <th>0</th>\n      <td>1727</td>\n      <td>1</td>\n      <td>1</td>\n      <td>4</td>\n      <td>5</td>\n      <td>5</td>\n      <td>1</td>\n      <td>1</td>\n      <td>0</td>\n      <td>1</td>\n      <td>0</td>\n      <td>1</td>\n      <td>0</td>\n      <td>0</td>\n    </tr>\n    <tr>\n      <th>1</th>\n      <td>1546</td>\n      <td>3</td>\n      <td>3</td>\n      <td>3</td>\n      <td>2</td>\n      <td>2</td>\n      <td>0</td>\n      <td>1</td>\n      <td>0</td>\n      <td>0</td>\n      <td>1</td>\n      <td>0</td>\n      <td>1</td>\n      <td>0</td>\n    </tr>\n    <tr>\n      <th>2</th>\n      <td>1086</td>\n      <td>5</td>\n      <td>5</td>\n      <td>5</td>\n      <td>1</td>\n      <td>1</td>\n      <td>1</td>\n      <td>0</td>\n      <td>1</td>\n      <td>1</td>\n      <td>0</td>\n      <td>0</td>\n      <td>1</td>\n      <td>0</td>\n    </tr>\n    <tr>\n      <th>3</th>\n      <td>2644</td>\n      <td>2</td>\n      <td>5</td>\n      <td>4</td>\n      <td>3</td>\n      <td>2</td>\n      <td>0</td>\n      <td>1</td>\n      <td>0</td>\n      <td>1</td>\n      <td>0</td>\n      <td>1</td>\n      <td>0</td>\n      <td>0</td>\n    </tr>\n    <tr>\n      <th>4</th>\n      <td>302</td>\n      <td>4</td>\n      <td>1</td>\n      <td>3</td>\n      <td>4</td>\n      <td>4</td>\n      <td>0</td>\n      <td>1</td>\n      <td>0</td>\n      <td>1</td>\n      <td>0</td>\n      <td>0</td>\n      <td>1</td>\n      <td>0</td>\n    </tr>\n    <tr>\n      <th>5</th>\n      <td>125</td>\n      <td>5</td>\n      <td>2</td>\n      <td>5</td>\n      <td>5</td>\n      <td>5</td>\n      <td>1</td>\n      <td>1</td>\n      <td>0</td>\n      <td>1</td>\n      <td>0</td>\n      <td>0</td>\n      <td>1</td>\n      <td>0</td>\n    </tr>\n    <tr>\n      <th>6</th>\n      <td>248</td>\n      <td>3</td>\n      <td>3</td>\n      <td>5</td>\n      <td>5</td>\n      <td>5</td>\n      <td>1</td>\n      <td>1</td>\n      <td>0</td>\n      <td>1</td>\n      <td>0</td>\n      <td>1</td>\n      <td>0</td>\n      <td>0</td>\n    </tr>\n    <tr>\n      <th>7</th>\n      <td>547</td>\n      <td>2</td>\n      <td>2</td>\n      <td>2</td>\n      <td>1</td>\n      <td>1</td>\n      <td>0</td>\n      <td>0</td>\n      <td>1</td>\n      <td>1</td>\n      <td>0</td>\n      <td>0</td>\n      <td>1</td>\n      <td>0</td>\n    </tr>\n    <tr>\n      <th>8</th>\n      <td>472</td>\n      <td>4</td>\n      <td>1</td>\n      <td>4</td>\n      <td>4</td>\n      <td>4</td>\n      <td>1</td>\n      <td>1</td>\n      <td>0</td>\n      <td>1</td>\n      <td>0</td>\n      <td>0</td>\n      <td>0</td>\n      <td>1</td>\n    </tr>\n    <tr>\n      <th>9</th>\n      <td>2875</td>\n      <td>2</td>\n      <td>4</td>\n      <td>4</td>\n      <td>4</td>\n      <td>5</td>\n      <td>1</td>\n      <td>1</td>\n      <td>0</td>\n      <td>1</td>\n      <td>0</td>\n      <td>1</td>\n      <td>0</td>\n      <td>0</td>\n    </tr>\n  </tbody>\n</table>\n</div>"
     },
     "execution_count": 7,
     "metadata": {},
     "output_type": "execute_result"
    }
   ],
   "source": [
    "# TODO: Convert the target variable 'satisfaction' into binary numeric format, where 'satisfied' is mapped to 1 and 'neutral or dissatisfied' is mapped to 0.\n",
    "def to_binary(x):\n",
    "    if x == 'satisfied':\n",
    "        return 1\n",
    "    return 0\n",
    "\n",
    "\n",
    "binary = df.copy()\n",
    "binary['satisfaction_binary'] = binary['satisfaction'].apply(to_binary)\n",
    "binary = binary.drop(columns='satisfaction', axis=1)\n",
    "\n",
    "# TODO: Apply one-hot encoding to convert categorical variables into a numeric format suitable for machine learning models.\n",
    "object_columns = binary.select_dtypes(include=['object']).columns\n",
    "one_hot = pd.get_dummies(binary, columns=object_columns)\n",
    "one_hot.head(10)"
   ]
  },
  {
   "cell_type": "markdown",
   "metadata": {
    "id": "-nR1U95fAFGj"
   },
   "source": [
    "## Task 3: Splitting the Data into Training and Test Sets(6 point)\n",
    "Finally, [split your data](https://scikit-learn.org/stable/modules/generated/sklearn.model_selection.train_test_split.html) into training and test sets. This is a critical step for training and evaluating the performance of your models."
   ]
  },
  {
   "cell_type": "code",
   "execution_count": 8,
   "metadata": {
    "colab": {
     "base_uri": "https://localhost:8080/"
    },
    "id": "H1aAb9WnAFGj",
    "outputId": "d8342229-78af-4056-a101-25af3cecae90",
    "trusted": true,
    "ExecuteTime": {
     "end_time": "2024-06-07T18:38:48.006884Z",
     "start_time": "2024-06-07T18:38:47.988428Z"
    }
   },
   "outputs": [
    {
     "name": "stdout",
     "output_type": "stream",
     "text": [
      "Training set shape: (20000, 13) (20000,)\n",
      "Testing set shape: (5000, 13) (5000,)\n"
     ]
    }
   ],
   "source": [
    "# Prepare data for model training\n",
    "# TODO: Separate features and the target variable. Ensure all features are in an integer format.\n",
    "one_hot = one_hot.astype('int64')\n",
    "label = one_hot['satisfaction_binary']\n",
    "features = one_hot.drop(columns='satisfaction_binary')\n",
    "feature_labels = features.columns\n",
    "features = features.to_numpy()\n",
    "label = label.to_numpy()\n",
    "\n",
    "# TODO: Split the dataset into training and testing sets using an 80-20 split.\n",
    "X_train, X_test, y_train, y_test = train_test_split(features, label, test_size=0.2)\n",
    "\n",
    "# TODO: Print the shapes of the training and testing datasets to verify the split.\n",
    "print(f\"Training set shape: {X_train.shape} {y_train.shape}\")\n",
    "print(f\"Testing set shape: {X_test.shape} {y_test.shape}\")"
   ]
  },
  {
   "cell_type": "markdown",
   "metadata": {},
   "source": [
    "<font size=3>\n",
    "Now that our data is prepared and we have separate training and testing datasets, along with the necessary preprocessing completed, we are ready to move on to the model building and training phase. We will start with the Naive Bayes classifier, which is our first model in this series of experiments."
   ]
  },
  {
   "cell_type": "markdown",
   "metadata": {
    "id": "ik9gIoYAAFGk"
   },
   "source": [
    "# Naive Bayes Classifier (25 point)"
   ]
  },
  {
   "cell_type": "markdown",
   "metadata": {
    "id": "9mT-KY3GAFGk"
   },
   "source": [
    "## Task 1: Implement Naive Bayes Classifier from Scratch (15 point)\n",
    "In this task, you will implement the [Naive Bayes Classifier](https://en.wikipedia.org/wiki/Naive_Bayes_classifier) from scratch. This will involve calculating the prior probabilities for each class, the likelihood of the data given the class, and using these to calculate the posterior probabilities for the prediction.\n",
    "\n",
    "\n",
    "[This video](https://www.youtube.com/watch?v=O2L2Uv9pdDA) will be helpful too.\n",
    "Especially [this model](https://www.youtube.com/watch?v=H3EjCKtlVog).\n"
   ]
  },
  {
   "cell_type": "code",
   "execution_count": 9,
   "metadata": {
    "id": "vZV9TjBAAFGk",
    "trusted": true,
    "ExecuteTime": {
     "end_time": "2024-06-07T18:38:55.288185Z",
     "start_time": "2024-06-07T18:38:55.278457Z"
    }
   },
   "outputs": [],
   "source": [
    "import numpy as np\n",
    "\n",
    "class NaiveBayesClassifier:\n",
    "    def __init__(self, feature_labels):\n",
    "        self.labels = {label: [1, 1] for label in feature_labels}\n",
    "        self.features = {feature_labels[i]: i for i in range(len(feature_labels))}\n",
    "        self.class_priors = {}\n",
    "        self.means = {}\n",
    "\n",
    "    def fit(self, X, y):\n",
    "        class_counts = np.bincount(y)\n",
    "        self.class_priors = {0: class_counts[0] / len(y), 1: class_counts[1] / len(y)}\n",
    "        self.means = np.mean(X, axis=0)\n",
    "        for label in self.labels:\n",
    "            feature_index = self.features[label]\n",
    "            for class_val in [0, 1]:\n",
    "                count_feature_and_class = np.sum((X[:, feature_index] >= self.means[feature_index]) & (y == class_val))\n",
    "                count_class = class_counts[class_val]\n",
    "                prob = (count_feature_and_class + 1) / (count_class + 2)\n",
    "                self.labels[label][class_val] = prob\n",
    "\n",
    "    def predict(self, X):\n",
    "        y_pred = []\n",
    "        for sample in X:\n",
    "            prob_0 = self.get_prob(sample, 0)\n",
    "            prob_1 = self.get_prob(sample, 1)\n",
    "            if prob_0 >= prob_1:\n",
    "                y_pred.append(0)\n",
    "            else:\n",
    "                y_pred.append(1)\n",
    "        return np.array(y_pred)\n",
    "\n",
    "    def get_prob(self, sample, class_val):\n",
    "        prob = self.class_priors[class_val]\n",
    "        for label, feature_index in self.features.items():\n",
    "            if sample[feature_index] >= self.means[feature_index]:\n",
    "                prob *= self.labels[label][class_val]\n",
    "            else:\n",
    "                prob *= (1 - self.labels[label][class_val])\n",
    "        return prob\n"
   ]
  },
  {
   "cell_type": "markdown",
   "metadata": {
    "id": "LPWNCqf6AFGl"
   },
   "source": [
    "## Task 2: Train Naive Bayes Model from Scratch (2 point)\n",
    "Instantiate the NaiveBayesClassifier class and fit it to the training data."
   ]
  },
  {
   "cell_type": "code",
   "execution_count": 10,
   "metadata": {
    "id": "sbcCDjkQAFGl",
    "trusted": true,
    "ExecuteTime": {
     "end_time": "2024-06-07T18:38:57.386734Z",
     "start_time": "2024-06-07T18:38:57.378703Z"
    }
   },
   "outputs": [],
   "source": [
    "# Instantiate the NaiveBayesClassifier and train it with the training dataset\n",
    "# TODO: Create an instance of NaiveBayesClassifier and fit it to the training data using the fit method.\n",
    "nbc = NaiveBayesClassifier(feature_labels)\n",
    "nbc.fit(X_train, y_train)"
   ]
  },
  {
   "cell_type": "markdown",
   "metadata": {
    "id": "beC0aQ0NAFGm"
   },
   "source": [
    "## Task 3: Train Naive Bayes Model Using scikit-learn (5 point)\n",
    "Utilize the [Naive Bayes class from scikit-learn](https://scikit-learn.org/stable/modules/naive_bayes.html) to train a Naive Bayes model on the same dataset."
   ]
  },
  {
   "cell_type": "code",
   "execution_count": 13,
   "metadata": {
    "colab": {
     "base_uri": "https://localhost:8080/",
     "height": 74
    },
    "id": "X8ZfPQB0AFGm",
    "outputId": "c53a0598-ffb2-4d32-b8f6-7336b6f82153",
    "trusted": true,
    "ExecuteTime": {
     "end_time": "2024-06-07T18:39:23.655673Z",
     "start_time": "2024-06-07T18:39:23.639424Z"
    }
   },
   "outputs": [
    {
     "data": {
      "text/plain": "GaussianNB()",
      "text/html": "<style>#sk-container-id-2 {color: black;background-color: white;}#sk-container-id-2 pre{padding: 0;}#sk-container-id-2 div.sk-toggleable {background-color: white;}#sk-container-id-2 label.sk-toggleable__label {cursor: pointer;display: block;width: 100%;margin-bottom: 0;padding: 0.3em;box-sizing: border-box;text-align: center;}#sk-container-id-2 label.sk-toggleable__label-arrow:before {content: \"▸\";float: left;margin-right: 0.25em;color: #696969;}#sk-container-id-2 label.sk-toggleable__label-arrow:hover:before {color: black;}#sk-container-id-2 div.sk-estimator:hover label.sk-toggleable__label-arrow:before {color: black;}#sk-container-id-2 div.sk-toggleable__content {max-height: 0;max-width: 0;overflow: hidden;text-align: left;background-color: #f0f8ff;}#sk-container-id-2 div.sk-toggleable__content pre {margin: 0.2em;color: black;border-radius: 0.25em;background-color: #f0f8ff;}#sk-container-id-2 input.sk-toggleable__control:checked~div.sk-toggleable__content {max-height: 200px;max-width: 100%;overflow: auto;}#sk-container-id-2 input.sk-toggleable__control:checked~label.sk-toggleable__label-arrow:before {content: \"▾\";}#sk-container-id-2 div.sk-estimator input.sk-toggleable__control:checked~label.sk-toggleable__label {background-color: #d4ebff;}#sk-container-id-2 div.sk-label input.sk-toggleable__control:checked~label.sk-toggleable__label {background-color: #d4ebff;}#sk-container-id-2 input.sk-hidden--visually {border: 0;clip: rect(1px 1px 1px 1px);clip: rect(1px, 1px, 1px, 1px);height: 1px;margin: -1px;overflow: hidden;padding: 0;position: absolute;width: 1px;}#sk-container-id-2 div.sk-estimator {font-family: monospace;background-color: #f0f8ff;border: 1px dotted black;border-radius: 0.25em;box-sizing: border-box;margin-bottom: 0.5em;}#sk-container-id-2 div.sk-estimator:hover {background-color: #d4ebff;}#sk-container-id-2 div.sk-parallel-item::after {content: \"\";width: 100%;border-bottom: 1px solid gray;flex-grow: 1;}#sk-container-id-2 div.sk-label:hover label.sk-toggleable__label {background-color: #d4ebff;}#sk-container-id-2 div.sk-serial::before {content: \"\";position: absolute;border-left: 1px solid gray;box-sizing: border-box;top: 0;bottom: 0;left: 50%;z-index: 0;}#sk-container-id-2 div.sk-serial {display: flex;flex-direction: column;align-items: center;background-color: white;padding-right: 0.2em;padding-left: 0.2em;position: relative;}#sk-container-id-2 div.sk-item {position: relative;z-index: 1;}#sk-container-id-2 div.sk-parallel {display: flex;align-items: stretch;justify-content: center;background-color: white;position: relative;}#sk-container-id-2 div.sk-item::before, #sk-container-id-2 div.sk-parallel-item::before {content: \"\";position: absolute;border-left: 1px solid gray;box-sizing: border-box;top: 0;bottom: 0;left: 50%;z-index: -1;}#sk-container-id-2 div.sk-parallel-item {display: flex;flex-direction: column;z-index: 1;position: relative;background-color: white;}#sk-container-id-2 div.sk-parallel-item:first-child::after {align-self: flex-end;width: 50%;}#sk-container-id-2 div.sk-parallel-item:last-child::after {align-self: flex-start;width: 50%;}#sk-container-id-2 div.sk-parallel-item:only-child::after {width: 0;}#sk-container-id-2 div.sk-dashed-wrapped {border: 1px dashed gray;margin: 0 0.4em 0.5em 0.4em;box-sizing: border-box;padding-bottom: 0.4em;background-color: white;}#sk-container-id-2 div.sk-label label {font-family: monospace;font-weight: bold;display: inline-block;line-height: 1.2em;}#sk-container-id-2 div.sk-label-container {text-align: center;}#sk-container-id-2 div.sk-container {/* jupyter's `normalize.less` sets `[hidden] { display: none; }` but bootstrap.min.css set `[hidden] { display: none !important; }` so we also need the `!important` here to be able to override the default hidden behavior on the sphinx rendered scikit-learn.org. See: https://github.com/scikit-learn/scikit-learn/issues/21755 */display: inline-block !important;position: relative;}#sk-container-id-2 div.sk-text-repr-fallback {display: none;}</style><div id=\"sk-container-id-2\" class=\"sk-top-container\"><div class=\"sk-text-repr-fallback\"><pre>GaussianNB()</pre><b>In a Jupyter environment, please rerun this cell to show the HTML representation or trust the notebook. <br />On GitHub, the HTML representation is unable to render, please try loading this page with nbviewer.org.</b></div><div class=\"sk-container\" hidden><div class=\"sk-item\"><div class=\"sk-estimator sk-toggleable\"><input class=\"sk-toggleable__control sk-hidden--visually\" id=\"sk-estimator-id-2\" type=\"checkbox\" checked><label for=\"sk-estimator-id-2\" class=\"sk-toggleable__label sk-toggleable__label-arrow\">GaussianNB</label><div class=\"sk-toggleable__content\"><pre>GaussianNB()</pre></div></div></div></div></div>"
     },
     "execution_count": 13,
     "metadata": {},
     "output_type": "execute_result"
    }
   ],
   "source": [
    "# Initialize and train a Gaussian Naive Bayes model using scikit-learn\n",
    "# TODO: Use scikit-learn's GaussianNB to create and fit a model to the training dataset.\n",
    "from sklearn.naive_bayes import GaussianNB\n",
    "\n",
    "skl_nb = GaussianNB()\n",
    "skl_nb.fit(X_train, y_train)"
   ]
  },
  {
   "cell_type": "markdown",
   "metadata": {
    "id": "NCNLg0oBAFGm"
   },
   "source": [
    "## Task 4: Evaluate and Compare Both Models (3 point)\n",
    "Evaluate both the custom-built Naive Bayes model and the scikit-learn model. The primary metric for comparison is accuracy, which is sufficient for earning full points on this task. Optionally, you can also use a [confusion matrix](https://scikit-learn.org/stable/auto_examples/model_selection/plot_confusion_matrix.html) to further analyze and compare their performance in terms of [accuracy, precision, recall, and F1 score](https://www.labelf.ai/blog/what-is-accuracy-precision-recall-and-f1-score).\n",
    "Please note that while the main focus is on comparing the accuracy, the output you see in this cell will be a confusion matrix if you choose to include additional metrics. This is encouraged as it provides a more comprehensive view of model performance but is not mandatory for meeting the basic requirements of the task."
   ]
  },
  {
   "cell_type": "code",
   "execution_count": 15,
   "metadata": {
    "colab": {
     "base_uri": "https://localhost:8080/"
    },
    "id": "I9tP6dvYAFGn",
    "outputId": "a39b86ae-90c2-4020-cb60-1e8b669b647c",
    "trusted": true,
    "ExecuteTime": {
     "end_time": "2024-06-07T18:39:36.684712Z",
     "start_time": "2024-06-07T18:39:36.604468Z"
    }
   },
   "outputs": [
    {
     "name": "stdout",
     "output_type": "stream",
     "text": [
      "Confusion Matrix (Scrath):\n",
      "[[2094  436]\n",
      " [ 375 2095]]\n",
      "Classification Report (Scrath):\n",
      "                        precision    recall  f1-score   support\n",
      "\n",
      "unsatisfied or neutral       0.85      0.83      0.84      2530\n",
      "             satisfied       0.83      0.85      0.84      2470\n",
      "\n",
      "              accuracy                           0.84      5000\n",
      "             macro avg       0.84      0.84      0.84      5000\n",
      "          weighted avg       0.84      0.84      0.84      5000\n",
      "\n",
      "--------------------------------------------------------------------------------\n",
      "Confusion Matrix (Sklearn):\n",
      "[[2138  392]\n",
      " [ 419 2051]]\n",
      "Classification Report (Sklearn):\n",
      "                        precision    recall  f1-score   support\n",
      "\n",
      "unsatisfied or neutral       0.84      0.85      0.84      2530\n",
      "             satisfied       0.84      0.83      0.83      2470\n",
      "\n",
      "              accuracy                           0.84      5000\n",
      "             macro avg       0.84      0.84      0.84      5000\n",
      "          weighted avg       0.84      0.84      0.84      5000\n"
     ]
    }
   ],
   "source": [
    "# TODO: Predict and Evaluate Custom Naive Bayes Classifier\n",
    "# - Predict test labels with the NaiveBayesClassifier instance.\n",
    "# - Convert numerical labels to class names for comparison.\n",
    "# - Use confusion matrix and classification report for model evaluation.\n",
    "X_test = np.array(X_test)\n",
    "y_test = np.array(y_test)\n",
    "\n",
    "y_pred = nbc.predict(X_test)\n",
    "print(\"Confusion Matrix (Scrath):\")\n",
    "print(confusion_matrix(y_test, y_pred))\n",
    "print(\"Classification Report (Scrath):\")\n",
    "print(classification_report(y_pred=y_pred, y_true=y_test,\n",
    "                            target_names=['unsatisfied or neutral', 'satisfied']))\n",
    "# TODO: Predict and Evaluate Scikit-learn Gaussian Naive Bayes Model\n",
    "# - Make preions on the test set using scikit-learn's GaussianNB.\n",
    "# - Translate numerical labels to class names for intuitive comparison.\n",
    "# - Assess the model's effectiveness with confusion matrix and classification report, noting differences with the custom model.\n",
    "print(\"--------------------------------------------------------------------------------\")\n",
    "\n",
    "y_pred_skl = skl_nb.predict(X=X_test)\n",
    "print(\"Confusion Matrix (Sklearn):\")\n",
    "print(confusion_matrix(y_test, y_pred_skl))\n",
    "print(\"Classification Report (Sklearn):\")\n",
    "print(classification_report(y_pred=y_pred_skl, y_true=y_test,\n",
    "                            target_names=['unsatisfied or neutral', 'satisfied']))\n"
   ]
  },
  {
   "cell_type": "markdown",
   "metadata": {
    "id": "j2TGf53hAFGn"
   },
   "source": [
    "# Decision tree Classifier (25 point)"
   ]
  },
  {
   "cell_type": "markdown",
   "metadata": {
    "id": "xB8t3P6aAFGn"
   },
   "source": [
    "## Task 1: Implement Decision Tree Classifier from Scratch (15 point)\n",
    "In this task, you are to implement a [Decision Tree Classifier](https://en.wikipedia.org/wiki/Decision_tree) entirely from scratch. The core framework of the classifier has been outlined for you, including several helper methods that you might find useful. These methods are intended to guide your implementation and provide a structured way to approach the problem.You are not strictly bound to the provided private methods (`_compute_entropy`, `_split_data`, etc.). If you find a more efficient or clearer way to implement these functionalities, you are encouraged to adjust the methods accordingly.\n",
    "\n",
    "[This video](https://www.youtube.com/watch?v=_L39rN6gz7Y) will be helpful too."
   ]
  },
  {
   "cell_type": "code",
   "execution_count": 53,
   "metadata": {
    "id": "b-tvKk8zAFGo",
    "trusted": true,
    "ExecuteTime": {
     "end_time": "2024-06-06T20:34:27.373114Z",
     "start_time": "2024-06-06T20:34:27.347094Z"
    }
   },
   "outputs": [],
   "source": [
    "import numpy as np\n",
    "from collections import Counter, OrderedDict\n",
    "import math\n",
    "\n",
    "\n",
    "class DecisionTreeClassifier:\n",
    "    def __init__(self, feature_labels, max_depth=None):\n",
    "        \"\"\"\n",
    "        Initialize the Decision Tree Classifier with an optional maximum depth.\n",
    "        Inputs:\n",
    "        - max_depth: The maximum depth of the tree. If None, the tree can grow until all leaves are pure or other stopping criteria are met.\n",
    "        Outputs:\n",
    "        An instance of the DecisionTreeClassifier with initial settings.\n",
    "        \"\"\"\n",
    "        if max_depth is None:\n",
    "            max_depth = float('inf')\n",
    "        self.max_depth = max_depth\n",
    "        self.labels = feature_labels\n",
    "        self.features = {feature_labels[i]: i for i in range(len(feature_labels))}\n",
    "        self.tree = None\n",
    "\n",
    "    def fit(self, X, y):\n",
    "        \"\"\"\n",
    "        Fit the decision tree classifier using the training data X and labels y.\n",
    "        Inputs:\n",
    "        - X: 2D numpy array of shape (n_samples, n_features) representing the feature data.\n",
    "        - y: 1D numpy array of shape (n_samples,) representing the labels.\n",
    "        Outputs:\n",
    "        None, but this method updates the classifier's tree structure based on the training data.\n",
    "        \"\"\"\n",
    "        self.tree = self._build_tree(X, y, 0)\n",
    "\n",
    "    def predict(self, X):\n",
    "        \"\"\"\n",
    "        Predict the class labels for the input features X.\n",
    "        Inputs:\n",
    "        - X: 2D numpy array of shape (n_samples, n_features) representing the feature data.\n",
    "        Outputs:\n",
    "        - predictions: 1D numpy array of shape (n_samples,) containing the predicted class labels.\n",
    "        \"\"\"\n",
    "        y = []\n",
    "        for sample in X:\n",
    "            y.append(self._go_down_tree(self.tree, sample))\n",
    "        return np.array(y)\n",
    "\n",
    "    def _go_down_tree(self, root, sample):\n",
    "        if isinstance(root, int) or isinstance(root, np.int64):\n",
    "            return root\n",
    "        feature, threshold, left_subtree, right_subtree = root\n",
    "        if sample[self.get_column_index(feature)] > threshold:\n",
    "            return self._go_down_tree(right_subtree, sample)\n",
    "        else:\n",
    "            return self._go_down_tree(left_subtree, sample)\n",
    "\n",
    "    def _compute_entropy(self, y):\n",
    "        \"\"\"\n",
    "        Compute the entropy of label array y.\n",
    "        Inputs:\n",
    "        - y: 1D numpy array of class labels.\n",
    "        Outputs:\n",
    "        - entropy: A float representing the entropy of the label distribution.\n",
    "        \"\"\"\n",
    "        counts = Counter(y)\n",
    "        total = len(y)\n",
    "        entropy_val = 0.0\n",
    "        for count in counts.values():\n",
    "            probability = count / total\n",
    "            entropy_val -= probability * math.log2(probability)\n",
    "        return entropy_val\n",
    "\n",
    "    def _split_data(self, X, y, feature_index, threshold):\n",
    "        \"\"\"\n",
    "        Split the data into left and right branches based on the given feature index and threshold.\n",
    "        Inputs:\n",
    "        - X: 2D numpy array of feature data.\n",
    "        - y: 1D numpy array of labels.\n",
    "        - feature_index: Index of the feature used for splitting the data.\n",
    "        - threshold: The value to split the feature upon.\n",
    "        Outputs:\n",
    "        - X_left, X_right, y_left, y_right: Arrays representing the split of data and labels.\n",
    "        \"\"\"\n",
    "        left_mask = X[:, feature_index] <= threshold\n",
    "        right_mask = ~left_mask\n",
    "        return X[left_mask], X[right_mask], y[left_mask], y[right_mask]\n",
    "\n",
    "    def _find_best_split(self, X, y):\n",
    "        \"\"\"\n",
    "        Find the best split for the decision tree based on entropy.\n",
    "        Inputs:\n",
    "        - X: 2D numpy array of feature data.\n",
    "        - y: 1D numpy array of labels.\n",
    "        Outputs:\n",
    "        - best_feature, best_threshold: Indices and thresholds that give the best split based on entropy.\n",
    "        \"\"\"\n",
    "        best_gain = -1\n",
    "        best_feature = None\n",
    "        best_threshold = None\n",
    "        current_entropy = self._compute_entropy(y)\n",
    "\n",
    "        n_features = X.shape[1]\n",
    "        for feature_index in range(n_features):\n",
    "            thresholds = np.unique(X[:, feature_index])\n",
    "            for threshold in thresholds:\n",
    "                X_left, X_right, y_left, y_right = self._split_data(X, y, feature_index, threshold)\n",
    "                if len(y_left) == 0 or len(y_right) == 0:\n",
    "                    continue\n",
    "\n",
    "                left_entropy = self._compute_entropy(y_left)\n",
    "                right_entropy = self._compute_entropy(y_right)\n",
    "                weighted_avg_entropy = (len(y_left) / len(y) * left_entropy) + (len(y_right) / len(y) * right_entropy)\n",
    "                information_gain = current_entropy - weighted_avg_entropy\n",
    "\n",
    "                if information_gain > best_gain:\n",
    "                    best_gain = information_gain\n",
    "                    best_feature = self.get_column_name(feature_index)\n",
    "                    best_threshold = threshold\n",
    "\n",
    "        return best_feature, best_threshold\n",
    "\n",
    "    def _build_tree(self, X, y, depth):\n",
    "        \"\"\"\n",
    "        Recursively build the decision tree.\n",
    "        Inputs:\n",
    "        - X: 2D numpy array of feature data.\n",
    "        - y: 1D numpy array of labels.\n",
    "        - depth: Current depth of the tree.\n",
    "        Outputs:\n",
    "        - A tree represented as a nested structure.\n",
    "        \"\"\"\n",
    "        if depth >= self.max_depth or len(set(y)) == 1:\n",
    "            return Counter(y).most_common(1)[0][0]\n",
    "\n",
    "        best_feature, best_threshold = self._find_best_split(X, y)\n",
    "        if best_feature is None:\n",
    "            return Counter(y).most_common(1)[0][0]\n",
    "\n",
    "        X_left, X_right, y_left, y_right = self._split_data(X, y, self.get_column_index(best_feature), best_threshold)\n",
    "        left_subtree = self._build_tree(X_left, y_left, depth + 1)\n",
    "        right_subtree = self._build_tree(X_right, y_right, depth + 1)\n",
    "        return best_feature, best_threshold, left_subtree, right_subtree\n",
    "\n",
    "    def get_column_index(self, feature_name):\n",
    "        return self.features[feature_name]\n",
    "\n",
    "    def get_column_name(self, index):\n",
    "        return self.labels[index]"
   ]
  },
  {
   "cell_type": "markdown",
   "metadata": {
    "id": "-XnCxGvPAFGo"
   },
   "source": [
    "## Task 2: Train Decision Tree Model from Scratch (2 point)\n",
    "Instantiate the DecisionTree class and fit it to the training data."
   ]
  },
  {
   "cell_type": "code",
   "execution_count": 54,
   "metadata": {
    "id": "-iaxa-YTAFGp",
    "trusted": true,
    "ExecuteTime": {
     "end_time": "2024-06-06T20:35:05.831136Z",
     "start_time": "2024-06-06T20:34:31.206317Z"
    }
   },
   "outputs": [],
   "source": [
    "# Create and train a Decision Tree model with a maximum depth of 5\n",
    "# TODO: Instantiate the DecisionTreeClassifier with max_depth=5 and fit it to the training data.\n",
    "my_dtc = DecisionTreeClassifier(feature_labels, max_depth=5)\n",
    "my_dtc.fit(X=X_train, y=y_train)"
   ]
  },
  {
   "cell_type": "markdown",
   "metadata": {
    "id": "n9KybqZBAFGp"
   },
   "source": [
    "## Task 3: Train Decision Tree Model Using scikit-learn (5 point)\n",
    "Utilize the [Decision Tree class from scikit-learn](https://scikit-learn.org/stable/modules/tree.html) to train a Decision Tree model on the same dataset."
   ]
  },
  {
   "cell_type": "code",
   "execution_count": 41,
   "metadata": {
    "colab": {
     "base_uri": "https://localhost:8080/",
     "height": 74
    },
    "id": "_nd9orWpAFGq",
    "outputId": "f4ac55b6-2c3c-47e2-b326-7b8b935ebe18",
    "trusted": true,
    "ExecuteTime": {
     "end_time": "2024-06-06T20:24:27.889556Z",
     "start_time": "2024-06-06T20:24:27.601483Z"
    }
   },
   "outputs": [
    {
     "data": {
      "text/plain": "DecisionTreeClassifier(max_depth=5, random_state=42)",
      "text/html": "<style>#sk-container-id-2 {color: black;background-color: white;}#sk-container-id-2 pre{padding: 0;}#sk-container-id-2 div.sk-toggleable {background-color: white;}#sk-container-id-2 label.sk-toggleable__label {cursor: pointer;display: block;width: 100%;margin-bottom: 0;padding: 0.3em;box-sizing: border-box;text-align: center;}#sk-container-id-2 label.sk-toggleable__label-arrow:before {content: \"▸\";float: left;margin-right: 0.25em;color: #696969;}#sk-container-id-2 label.sk-toggleable__label-arrow:hover:before {color: black;}#sk-container-id-2 div.sk-estimator:hover label.sk-toggleable__label-arrow:before {color: black;}#sk-container-id-2 div.sk-toggleable__content {max-height: 0;max-width: 0;overflow: hidden;text-align: left;background-color: #f0f8ff;}#sk-container-id-2 div.sk-toggleable__content pre {margin: 0.2em;color: black;border-radius: 0.25em;background-color: #f0f8ff;}#sk-container-id-2 input.sk-toggleable__control:checked~div.sk-toggleable__content {max-height: 200px;max-width: 100%;overflow: auto;}#sk-container-id-2 input.sk-toggleable__control:checked~label.sk-toggleable__label-arrow:before {content: \"▾\";}#sk-container-id-2 div.sk-estimator input.sk-toggleable__control:checked~label.sk-toggleable__label {background-color: #d4ebff;}#sk-container-id-2 div.sk-label input.sk-toggleable__control:checked~label.sk-toggleable__label {background-color: #d4ebff;}#sk-container-id-2 input.sk-hidden--visually {border: 0;clip: rect(1px 1px 1px 1px);clip: rect(1px, 1px, 1px, 1px);height: 1px;margin: -1px;overflow: hidden;padding: 0;position: absolute;width: 1px;}#sk-container-id-2 div.sk-estimator {font-family: monospace;background-color: #f0f8ff;border: 1px dotted black;border-radius: 0.25em;box-sizing: border-box;margin-bottom: 0.5em;}#sk-container-id-2 div.sk-estimator:hover {background-color: #d4ebff;}#sk-container-id-2 div.sk-parallel-item::after {content: \"\";width: 100%;border-bottom: 1px solid gray;flex-grow: 1;}#sk-container-id-2 div.sk-label:hover label.sk-toggleable__label {background-color: #d4ebff;}#sk-container-id-2 div.sk-serial::before {content: \"\";position: absolute;border-left: 1px solid gray;box-sizing: border-box;top: 0;bottom: 0;left: 50%;z-index: 0;}#sk-container-id-2 div.sk-serial {display: flex;flex-direction: column;align-items: center;background-color: white;padding-right: 0.2em;padding-left: 0.2em;position: relative;}#sk-container-id-2 div.sk-item {position: relative;z-index: 1;}#sk-container-id-2 div.sk-parallel {display: flex;align-items: stretch;justify-content: center;background-color: white;position: relative;}#sk-container-id-2 div.sk-item::before, #sk-container-id-2 div.sk-parallel-item::before {content: \"\";position: absolute;border-left: 1px solid gray;box-sizing: border-box;top: 0;bottom: 0;left: 50%;z-index: -1;}#sk-container-id-2 div.sk-parallel-item {display: flex;flex-direction: column;z-index: 1;position: relative;background-color: white;}#sk-container-id-2 div.sk-parallel-item:first-child::after {align-self: flex-end;width: 50%;}#sk-container-id-2 div.sk-parallel-item:last-child::after {align-self: flex-start;width: 50%;}#sk-container-id-2 div.sk-parallel-item:only-child::after {width: 0;}#sk-container-id-2 div.sk-dashed-wrapped {border: 1px dashed gray;margin: 0 0.4em 0.5em 0.4em;box-sizing: border-box;padding-bottom: 0.4em;background-color: white;}#sk-container-id-2 div.sk-label label {font-family: monospace;font-weight: bold;display: inline-block;line-height: 1.2em;}#sk-container-id-2 div.sk-label-container {text-align: center;}#sk-container-id-2 div.sk-container {/* jupyter's `normalize.less` sets `[hidden] { display: none; }` but bootstrap.min.css set `[hidden] { display: none !important; }` so we also need the `!important` here to be able to override the default hidden behavior on the sphinx rendered scikit-learn.org. See: https://github.com/scikit-learn/scikit-learn/issues/21755 */display: inline-block !important;position: relative;}#sk-container-id-2 div.sk-text-repr-fallback {display: none;}</style><div id=\"sk-container-id-2\" class=\"sk-top-container\"><div class=\"sk-text-repr-fallback\"><pre>DecisionTreeClassifier(max_depth=5, random_state=42)</pre><b>In a Jupyter environment, please rerun this cell to show the HTML representation or trust the notebook. <br />On GitHub, the HTML representation is unable to render, please try loading this page with nbviewer.org.</b></div><div class=\"sk-container\" hidden><div class=\"sk-item\"><div class=\"sk-estimator sk-toggleable\"><input class=\"sk-toggleable__control sk-hidden--visually\" id=\"sk-estimator-id-2\" type=\"checkbox\" checked><label for=\"sk-estimator-id-2\" class=\"sk-toggleable__label sk-toggleable__label-arrow\">DecisionTreeClassifier</label><div class=\"sk-toggleable__content\"><pre>DecisionTreeClassifier(max_depth=5, random_state=42)</pre></div></div></div></div></div>"
     },
     "execution_count": 41,
     "metadata": {},
     "output_type": "execute_result"
    }
   ],
   "source": [
    "# Initialize and train a Decision Tree Classifier using scikit-learn\n",
    "# TODO: Use scikit-learn's DecisionTreeClassifier to create a model with a specified random state and fit it to the training data.\n",
    "from sklearn import tree\n",
    "\n",
    "dtc = tree.DecisionTreeClassifier(max_depth=5, random_state=42)\n",
    "dtc.fit(X=X_train, y=y_train)"
   ]
  },
  {
   "cell_type": "markdown",
   "metadata": {
    "id": "HW2Qek2lAFGr"
   },
   "source": [
    "## Task 4: Evaluate and Compare Both Models (3 points)\n",
    "\n",
    "Evaluate both the custom-built Decision Tree model and the scikit-learn model. The primary metric for comparison is accuracy, which is sufficient for earning full points on this task. Optionally, you can also use a confusion matrix to further analyze and compare their performance in terms of accuracy, precision, recall, and F1 score.\n",
    "Please note that while the main focus is on comparing the accuracy, the output you see in this cell will be a confusion matrix if you choose to include additional metrics. This is encouraged as it provides a more comprehensive view of model performance but is not mandatory for meeting the basic requirements of the task.\n"
   ]
  },
  {
   "cell_type": "code",
   "execution_count": 55,
   "metadata": {
    "colab": {
     "base_uri": "https://localhost:8080/"
    },
    "id": "keaZOybpAFGr",
    "outputId": "88860721-e70b-4722-c681-b69a2509004f",
    "trusted": true,
    "ExecuteTime": {
     "end_time": "2024-06-06T20:35:13.497712Z",
     "start_time": "2024-06-06T20:35:13.435761Z"
    }
   },
   "outputs": [
    {
     "name": "stdout",
     "output_type": "stream",
     "text": [
      "Confusion Matrix (Scrath):\n",
      "[[2284  206]\n",
      " [ 256 2254]]\n",
      "Classification Report (Scrath):\n",
      "                        precision    recall  f1-score   support\n",
      "\n",
      "unsatisfied or neutral       0.90      0.92      0.91      2490\n",
      "             satisfied       0.92      0.90      0.91      2510\n",
      "\n",
      "              accuracy                           0.91      5000\n",
      "             macro avg       0.91      0.91      0.91      5000\n",
      "          weighted avg       0.91      0.91      0.91      5000\n",
      "\n",
      "--------------------------------------------------------------------------------\n",
      "Confusion Matrix (Sklearn):\n",
      "[[2332  158]\n",
      " [ 313 2197]]\n",
      "Classification Report (Sklearn):\n",
      "                        precision    recall  f1-score   support\n",
      "\n",
      "unsatisfied or neutral       0.88      0.94      0.91      2490\n",
      "             satisfied       0.93      0.88      0.90      2510\n",
      "\n",
      "              accuracy                           0.91      5000\n",
      "             macro avg       0.91      0.91      0.91      5000\n",
      "          weighted avg       0.91      0.91      0.91      5000\n"
     ]
    }
   ],
   "source": [
    "y_pred = my_dtc.predict(X=X_test)\n",
    "print(\"Confusion Matrix (Scrath):\")\n",
    "print(confusion_matrix(y_test, y_pred))\n",
    "print(\"Classification Report (Scrath):\")\n",
    "print(classification_report(y_pred=y_pred, y_true=y_test, target_names=['unsatisfied or neutral', 'satisfied']))\n",
    "\n",
    "print(\"--------------------------------------------------------------------------------\")\n",
    "\n",
    "y_pred_sklearn = dtc.predict(X=X_test)\n",
    "print(\"Confusion Matrix (Sklearn):\")\n",
    "print(confusion_matrix(y_test, y_pred_sklearn))\n",
    "print(\"Classification Report (Sklearn):\")\n",
    "print(classification_report(y_pred=y_pred_sklearn, y_true=y_test, target_names=['unsatisfied or neutral', 'satisfied']))"
   ]
  }
 ],
 "metadata": {
  "colab": {
   "provenance": []
  },
  "kaggle": {
   "accelerator": "none",
   "dataSources": [],
   "dockerImageVersionId": 30673,
   "isGpuEnabled": false,
   "isInternetEnabled": true,
   "language": "python",
   "sourceType": "notebook"
  },
  "kernelspec": {
   "display_name": "Python 3",
   "language": "python",
   "name": "python3"
  },
  "language_info": {
   "codemirror_mode": {
    "name": "ipython",
    "version": 3
   },
   "file_extension": ".py",
   "mimetype": "text/x-python",
   "name": "python",
   "nbconvert_exporter": "python",
   "pygments_lexer": "ipython3",
   "version": "3.10.13"
  }
 },
 "nbformat": 4,
 "nbformat_minor": 0
}
