{
 "nbformat": 4,
 "nbformat_minor": 0,
 "metadata": {
  "colab": {
   "provenance": [],
   "authorship_tag": "ABX9TyPRfMk8suKBOCWfeOJUd3WF"
  },
  "kernelspec": {
   "name": "python3",
   "language": "python",
   "display_name": "Python 3 (ipykernel)"
  },
  "language_info": {
   "name": "python"
  }
 },
 "cells": [
  {
   "cell_type": "markdown",
   "source": [
    "<img src='http://www-scf.usc.edu/~ghasemig/images/sharif.png' alt=\"SUT logo\" width=500 height=300 align=center class=\"saturate\" >\n",
    "\n",
    "<br>\n",
    "<font>\n",
    "<div dir=ltr align=center>\n",
    "<font color=0F5298 size=7>\n",
    "    Artificial Intelligence <br>\n",
    "    Computer Engineering Department <br>\n",
    "    Spring 2024<br>\n",
    "<font color=3C99D size=5>\n",
    "    Practical Assignment 3 - Heart Disease Prediction using Hidden Markov Models  <br>\n",
    "<font color=696880 size=4>\n",
    "Omid Daliran\n"
   ],
   "metadata": {
    "id": "lGYYFKeJ1GMj"
   }
  },
  {
   "cell_type": "markdown",
   "source": [
    "# Personal Data"
   ],
   "metadata": {
    "id": "mKqvyyp3TIzP"
   }
  },
  {
   "cell_type": "code",
   "source": [
    "# Set your student number and name\n",
    "student_number = 401106266\n",
    "Name = \"Mahdi\"\n",
    "Last_Name = \"Ali nejad\""
   ],
   "metadata": {
    "id": "0geUs2cxytvu",
    "ExecuteTime": {
     "end_time": "2024-05-14T06:17:40.658425Z",
     "start_time": "2024-05-14T06:17:40.647883Z"
    }
   },
   "execution_count": 1,
   "outputs": []
  },
  {
   "cell_type": "markdown",
   "source": [
    "# Libraries"
   ],
   "metadata": {
    "id": "7t1ZoXu-0BHq"
   }
  },
  {
   "cell_type": "code",
   "source": [
    "import csv\n",
    "import numpy as np\n",
    "import pandas as pd"
   ],
   "metadata": {
    "id": "ROZMme5FrlVL",
    "ExecuteTime": {
     "end_time": "2024-05-14T06:17:41.507238Z",
     "start_time": "2024-05-14T06:17:40.677526Z"
    }
   },
   "execution_count": 2,
   "outputs": []
  },
  {
   "cell_type": "markdown",
   "source": [
    "# Q2: Heart Disease Prediction using Hidden Markov  (100 Points)"
   ],
   "metadata": {
    "id": "22cAp2xx0asS"
   }
  },
  {
   "cell_type": "markdown",
   "source": [
    "# Introduction\n",
    "\n",
    "\n",
    "In this notebook, we explore the application of Hidden Markov Models (HMM) in predicting heart disease risk based on DNA sequences. Heart disease is a prevalent and life-threatening condition, and early detection is crucial for effective management. By leveraging HMM, we aim to identify regions within DNA sequences associated with high and low GC content, which have been linked to heart disease susceptibility.\n"
   ],
   "metadata": {
    "id": "HCCMQjKH1sWi"
   }
  },
  {
   "cell_type": "markdown",
   "source": [
    "# Hidden Markov Models (HMM) (40 points)\n",
    "\n",
    "Hidden Markov Models are probabilistic models widely used in sequential data analysis, particularly in bioinformatics. They are characterized by states, transitions between states, and emission probabilities associated with each state. In our context, the states represent the underlying biological characteristics of DNA sequences, while the emission probabilities signify the likelihood of observing specific nucleotides given each state.\n",
    "\n",
    "To facilitate our heart disease classification, we'll implement a custom Hidden Markov Model (HMM) class in Python. This class will include the Viterbi and Forward algorithms."
   ],
   "metadata": {
    "id": "tsYpNuyH4Cu-"
   }
  },
  {
   "cell_type": "code",
   "source": [
    "class HMM:\n",
    "    def __init__(self, states: list, emissions: list, start_probabilities: list, transition_probabilities: list):\n",
    "        self.sequence = None\n",
    "        self.states = states\n",
    "        self.state_labels = {i: state for i, state in enumerate(states)}\n",
    "        self.emissions = emissions\n",
    "        self.start_probabilities = start_probabilities\n",
    "        self.transition_probabilities = transition_probabilities\n",
    "\n",
    "    def viterbi(self, sequence: str) -> tuple:\n",
    "        t = len(sequence)\n",
    "        self.sequence = sequence\n",
    "        probs = self.recursive_viterbi(t)\n",
    "        max_probability = self.get_max_probs(probs)\n",
    "        return max_probability\n",
    "    \n",
    "\n",
    "    def get_max_probs(self, probs):\n",
    "        max_probability = max(probs.items(), key=lambda x: x[1])\n",
    "        return max_probability\n",
    "    \n",
    "\n",
    "    def recursive_viterbi(self, t):\n",
    "        if t == 1:\n",
    "            probs = self.calculate_probability_base_state(self.sequence[t - 1])\n",
    "            return probs\n",
    "\n",
    "        probs = self.recursive_viterbi(t - 1)\n",
    "        new_probs = {}\n",
    "        for _, state in self.state_labels.items():\n",
    "            paths = self.cal_paths_to_state(state, probs)\n",
    "            max_probability = self.get_max_probs(paths)\n",
    "            new_probs[max_probability[0] + state] = (max_probability[1] *\n",
    "                                                     self.get_emission_probability(self.sequence[t-1], state))\n",
    "        \n",
    "        return new_probs\n",
    "            \n",
    "                \n",
    "\n",
    "    def forward_algorithm(self, sequence: str) -> list:\n",
    "        t = len(sequence)\n",
    "        self.sequence = sequence\n",
    "        probs = self.recursive_forward(t)\n",
    "        max_probability = self.normalize(probs)\n",
    "\n",
    "        ans = []\n",
    "        for _, state in self.state_labels.items():\n",
    "            ans.append(max_probability[state])\n",
    "            \n",
    "        return ans\n",
    "    \n",
    "    \n",
    "\n",
    "    def calculate_probability_base_state(self, evidence):\n",
    "        dic = {self.state_labels[i]: self.start_probabilities[i] for i in range(len(self.states))}\n",
    "        for key, value in dic.items():\n",
    "            dic[key] *= self.get_emission_probability(evidence, key)\n",
    "        return dic\n",
    "\n",
    "    def get_emission_probability(self, evidence, key):\n",
    "        return self.emissions[self.find_state_num(key)][evidence]\n",
    "\n",
    "    def find_state_num(self, val):\n",
    "        for key, value in self.state_labels.items():\n",
    "            if value == val:\n",
    "                return key\n",
    "        return None\n",
    "\n",
    "    def cal_paths_to_state(self, state, probs):\n",
    "        dic = {}\n",
    "        for key, value in probs.items():\n",
    "            dic[key] = value * self.get_transition_probability(key[-1], state)\n",
    "        return dic\n",
    "\n",
    "    def get_transition_probability(self, key, state):\n",
    "        num = self.find_state_num(key)\n",
    "        return self.transition_probabilities[num][state]\n",
    "\n",
    "    def recursive_forward(self, t):\n",
    "        if t == 1:\n",
    "            probs = self.calculate_probability_base_state(self.sequence[t - 1])\n",
    "            return probs\n",
    "\n",
    "        probs = self.recursive_forward(t - 1)\n",
    "        new_probs = {}\n",
    "        for _, state in self.state_labels.items():\n",
    "            paths = self.cal_paths_to_state(state, probs)\n",
    "            max_probability = self.get_sum_probs(paths)\n",
    "            new_probs[state] = (max_probability * self.get_emission_probability(self.sequence[t-1], state))\n",
    "        \n",
    "        return new_probs\n",
    "\n",
    "    def get_sum_probs(self, paths):\n",
    "        max_probability = 0\n",
    "        for path, val in paths.items():\n",
    "            max_probability += val\n",
    "        return max_probability\n",
    "\n",
    "    def normalize(self, probs):\n",
    "        m = self.get_sum_probs(probs)\n",
    "        new_probs = {}\n",
    "        for key, value in probs.items():\n",
    "            new_probs[key] = value/m\n",
    "        \n",
    "        return new_probs\n",
    "\n"
   ],
   "metadata": {
    "id": "UHTspQ58UDSs",
    "ExecuteTime": {
     "end_time": "2024-05-14T06:17:41.530539Z",
     "start_time": "2024-05-14T06:17:41.509411Z"
    }
   },
   "execution_count": 3,
   "outputs": []
  },
  {
   "cell_type": "markdown",
   "source": [
    "GC content, the proportion of guanine (G) and cytosine (C) nucleotides in a DNA sequence, is a fundamental genomic feature. Variations in GC content have been implicated in various biological processes, including gene regulation and disease susceptibility. Specifically, high GC content (H) regions are associated with increased gene expression and potential regulatory elements, while low GC content (L) regions may indicate structural elements or regions prone to mutations. The transition and emission and start probabilities are as shown in the image below:\n",
    "\n",
    "![Probabilities](Probabilities.png)"
   ],
   "metadata": {
    "id": "9isx2p9kFT4o"
   }
  },
  {
   "cell_type": "code",
   "source": [
    "# TODO: Complete and run this code to check your implementation\n",
    "\n",
    "states = ['H', 'L']\n",
    "emissions = [{'A': 0.2, 'C': 0.3, 'G': 0.3, 'T': 0.2}, {'A': 0.3, 'C': 0.2, 'G': 0.2, 'T': 0.3}]\n",
    "start_probabilities = [0.5, 0.5]\n",
    "transition_probabilities = [{'H': 0.5, 'L': 0.5}, {'H': 0.4, 'L': 0.6}]\n",
    "\n",
    "hmm = HMM(states, emissions, start_probabilities, transition_probabilities)\n",
    "\n",
    "# Example DNA sequence\n",
    "# sequence = \"ATGCGCGATCGATCGAATCGCGT\"\n",
    "sequence = \"CTCCAATACCCCCCACAAGAACACACCCATAAAATTGCAACCCACAAATTAACAGCACCCCACAATACTACCAAACAACATAACCGCCCCGCCCGACTAC\"\n",
    "    \n",
    "\n",
    "# Viterbi algorithm\n",
    "path, max_probability = hmm.viterbi(sequence)\n",
    "print(\"Viterbi Path:\", path)\n",
    "print(\"Max Probability (Viterbi):\", max_probability)\n",
    "\n",
    "# Forward algorithm\n",
    "probability = hmm.forward_algorithm(sequence)\n",
    "print(\"Probability (Forward Algorithm):\", probability)"
   ],
   "metadata": {
    "colab": {
     "base_uri": "https://localhost:8080/"
    },
    "id": "9CcWsAvQXjJ_",
    "executionInfo": {
     "status": "ok",
     "timestamp": 1710794899166,
     "user_tz": -210,
     "elapsed": 375,
     "user": {
      "displayName": "Omid Daliran",
      "userId": "14293939971066168269"
     }
    },
    "outputId": "bd0099ba-4013-4a4b-a0d6-f2ce42b136f7",
    "ExecuteTime": {
     "end_time": "2024-05-14T06:17:41.543576Z",
     "start_time": "2024-05-14T06:17:41.532632Z"
    }
   },
   "execution_count": 4,
   "outputs": [
    {
     "name": "stdout",
     "output_type": "stream",
     "text": [
      "Viterbi Path: HLHHLLLLHHHHHHLLLLLLLLLLLHHHLLLLLLLLHHLLHHHLLLLLLLLLLLHHLHHHHLLLLLLLLLHHLLLLLLLLLLLHHHHHHHHHHHHLLLLH\n",
      "Max Probability (Viterbi): 6.61373394607485e-82\n",
      "Probability (Forward Algorithm): [0.5348975765446967, 0.4651024234553033]\n"
     ]
    }
   ]
  },
  {
   "cell_type": "markdown",
   "source": [
    "# Calculating Probabilities for Blood Type, Height, and Weight (10 points)\n",
    "\n",
    "After obtaining the sequence of H and L regions from the DNA using the Viterbi algorithm, we proceed to calculate the probabilities for other attributes such as blood type, height, weight, and the presence or absence of DCM (DCM, or Dilated Cardiomyopathy, is a heart condition characterized by the enlargement of the heart's left ventricle. It can lead to heart failure if not properly managed.) using the Forward algorithm. In this step, we aim to leverage the Hidden Markov Model (HMM) to infer these attributes based on the observed GC content sequence.\n",
    "\n",
    "\n",
    "We will use the functionality of the Forward algorithm to compute the probabilities associated with each possible state after observing the sequence.\n",
    "\n",
    "Attributes and Possible States:\n",
    "* Blood Type: O, A, B, AB\n",
    "* Height: 160 cm, 170 cm, 180 cm, 190 cm\n",
    "* Weight: 50 kg, 65 kg, 80 kg, 95 kg\n",
    "* DCM: Y (indicating presence) or N (indicating absence)\n"
   ],
   "metadata": {
    "id": "RE8zgAe07NnC"
   }
  },
  {
   "cell_type": "code",
   "source": [
    "def probabilities_from_sequence(sequence: str) -> tuple:\n",
    "    '''\n",
    "    This function, `probabilities_from_sequence(sequence)`, computes the probabilities associated with attributes such as blood type, height, weight, and the presence or absence of Dilated Cardiomyopathy (DCM) based on an input DNA sequence.\n",
    "  \n",
    "    ### Input:\n",
    "    - `sequence`: The observed DNA sequence for which probabilities are to be computed.\n",
    "  \n",
    "    ### Output:\n",
    "    The function returns dictionaries containing the probabilities for each possible state of the respective attributes:\n",
    "    - `height_probability_dic`: Probabilities for height categories (160 cm, 170 cm, 180 cm, 190 cm).\n",
    "    - `weight_probability_dic`: Probabilities for weight categories (50 kg, 65 kg, 80 kg, 95 kg).\n",
    "    - `blood_type_probability_dic`: Probabilities for blood types (O, A, B, AB).\n",
    "    - `DCM_probability_dic`: Probabilities for the presence (Y) or absence (N) of Dilated Cardiomyopathy (DCM).\n",
    "    '''\n",
    "    # Define the emission probabilities for each feature\n",
    "\n",
    "    height_emissions = [{'H': 0.2, 'L': 0.8}, {'H': 0.3, 'L': 0.7},\n",
    "                        {'H': 0.9, 'L': 0.1}, {'H': 0.8, 'L': 0.2}]\n",
    "\n",
    "    weight_emissions = [{'H': 0.3, 'L': 0.7}, {'H': 0.1, 'L': 0.9},\n",
    "                        {'H': 0.2, 'L': 0.8}, {'H': 0.7, 'L': 0.3}]\n",
    "\n",
    "    blood_type_emissions = [{'H': 0.75, 'L': 0.25}, {'H': 0.8, 'L': 0.2},\n",
    "                            {'H': 0.85, 'L': 0.15}, {'H': 0.7, 'L': 0.3}]\n",
    "\n",
    "    DCM_emissions = [{'H': 0.7, 'L': 0.3}, {'H': 0.6, 'L': 0.4}]\n",
    "\n",
    "    # Define the transition probabilities for each feature\n",
    "    height_transition_probabilities = [[0.7, 0.2, 0.05, 0.05], [0.1, 0.8, 0.05, 0.05], [0.1, 0.1, 0.7, 0.1],\n",
    "                                       [0.1, 0.1, 0.1, 0.7]]\n",
    "    weight_transition_probabilities = [[0.7, 0.2, 0.05, 0.05], [0.1, 0.8, 0.05, 0.05], [0.1, 0.1, 0.7, 0.1],\n",
    "                                       [0.1, 0.1, 0.1, 0.7]]\n",
    "    blood_type_transition_probabilities = [[0.7, 0.2, 0.05, 0.05], [0.1, 0.8, 0.05, 0.05], [0.1, 0.1, 0.7, 0.1],\n",
    "                                           [0.1, 0.1, 0.1, 0.7]]\n",
    "    DCM_transition_probabilities = [[0.9, 0.1], [0.1, 0.9]]\n",
    "\n",
    "    # Define start probabilities for each state\n",
    "    height_start_probabilities = [0.1, 0.4, 0.4, 0.1]\n",
    "    weight_start_probabilities = [0.15, 0.35, 0.35, 0.15]\n",
    "    blood_type_start_probabilities = [0.1, 0.35, 0.35, 0.2]\n",
    "    DCM_start_probabilities = [0.25, 0.75]\n",
    "    \n",
    "    heights = ['6', '7', '8', '9']\n",
    "    weights = ['5', '6', '8', '9']\n",
    "    blood_types = ['O', 'A', 'B', 'J']\n",
    "    DCMs = ['Y', 'N']\n",
    "    \n",
    "    # Heights\n",
    "    tpl = []\n",
    "    for i in range(4):\n",
    "        tp = {}\n",
    "        for j in range(4):\n",
    "            tp[heights[j]] = height_transition_probabilities[i][j]\n",
    "        tpl.append(tp)\n",
    "        \n",
    "    height_HMM = HMM(heights, height_emissions, height_start_probabilities, tpl)\n",
    "    \n",
    "    res = height_HMM.forward_algorithm(sequence)\n",
    "    height_probability_dic = {}\n",
    "    for i in range(4):\n",
    "        h = heights[i]\n",
    "        h = '1' + h + '0'\n",
    "        h = int(h)\n",
    "        height_probability_dic[h] = res[i]\n",
    "        \n",
    "        \n",
    "    # weights\n",
    "    tpl = []\n",
    "    for i in range(4):\n",
    "        tp = {}\n",
    "        for j in range(4):\n",
    "            tp[weights[j]] = weight_transition_probabilities[i][j]\n",
    "        tpl.append(tp)\n",
    "    \n",
    "    weight_HMM = HMM(weights, weight_emissions, weight_start_probabilities, tpl)\n",
    "    \n",
    "    res = weight_HMM.forward_algorithm(sequence)\n",
    "    weight_probability_dic = {}\n",
    "    for i in range(4):\n",
    "        h = weights[i]\n",
    "        if i % 2 == 0:\n",
    "            h += '0'\n",
    "        else:\n",
    "            h += '5'\n",
    "        h = int(h)\n",
    "        weight_probability_dic[h] = res[i]\n",
    "    \n",
    "    \n",
    "    # blood type\n",
    "    tpl = []\n",
    "    for i in range(4):\n",
    "        tp = {}\n",
    "        for j in range(4):\n",
    "            tp[blood_types[j]] = blood_type_transition_probabilities[i][j]\n",
    "        tpl.append(tp)\n",
    "        \n",
    "    blood_HMM = HMM(blood_types, blood_type_emissions, blood_type_start_probabilities, tpl)\n",
    "    \n",
    "    res = blood_HMM.forward_algorithm(sequence)\n",
    "    blood_type_probability_dic = {}\n",
    "    for i in range(4):\n",
    "        h = blood_types[i]\n",
    "        if h == 'J':\n",
    "            h = 'AB'\n",
    "            \n",
    "        blood_type_probability_dic[h] = res[i]\n",
    "        \n",
    "        \n",
    "    # DCM\n",
    "    tpl = []\n",
    "    for i in range(2):\n",
    "        ed = {}\n",
    "        tp = {}\n",
    "        for j in range(2):\n",
    "            ed[DCMs[j]] = DCM_emissions[j]\n",
    "            tp[DCMs[j]] = DCM_transition_probabilities[i][j]\n",
    "        tpl.append(tp)\n",
    "        \n",
    "    DCM_HMM = HMM(DCMs, DCM_emissions, DCM_start_probabilities, tpl)\n",
    "    \n",
    "    res = DCM_HMM.forward_algorithm(sequence)\n",
    "    DCM_probability_dic = {}\n",
    "    for i in range(2):\n",
    "        h = DCMs[i]\n",
    "        DCM_probability_dic[h] = res[i]\n",
    "        \n",
    "    # TODO: complete the code\n",
    "\n",
    "    return height_probability_dic, weight_probability_dic, blood_type_probability_dic, DCM_probability_dic\n",
    "\n"
   ],
   "metadata": {
    "id": "MKDBSoumfmb6",
    "ExecuteTime": {
     "end_time": "2024-05-14T06:17:41.568828Z",
     "start_time": "2024-05-14T06:17:41.546436Z"
    }
   },
   "execution_count": 5,
   "outputs": []
  },
  {
   "cell_type": "code",
   "source": [
    "# Run this code to check your implementation\n",
    "# Example sequence of 'H' and 'L'\n",
    "# sequence = \"HHLLHHHLLHLLLLHHLL\"\n",
    "sequence = \"HLHHLLLLHHHHHHLLLLLLLLLLLHHHLLLLLLLLHHLLHHHLLLLLLLLLLLHHLHHHHLLLLLLLLLHHLLLLLLLLLLLHHHHHHHHHHHHLLLLH\"\n",
    "\n",
    "height_probability, weight_probability, blood_type_probability, DCM_probability = probabilities_from_sequence(sequence)\n",
    "\n",
    "print(\"Probability of height given sequence:\", height_probability)\n",
    "print(\"Probability of weight given sequence:\", weight_probability)\n",
    "print(\"Probability of blood type given sequence:\", blood_type_probability)\n",
    "print(\"Probability of DCM given sequence:\", DCM_probability)"
   ],
   "metadata": {
    "colab": {
     "base_uri": "https://localhost:8080/"
    },
    "id": "vwGQ9QSAhEl5",
    "executionInfo": {
     "status": "ok",
     "timestamp": 1710794167707,
     "user_tz": -210,
     "elapsed": 354,
     "user": {
      "displayName": "Omid Daliran",
      "userId": "14293939971066168269"
     }
    },
    "outputId": "c44000d9-24c5-4968-daae-a493fb9e302f",
    "ExecuteTime": {
     "end_time": "2024-05-14T06:17:41.584559Z",
     "start_time": "2024-05-14T06:17:41.569882Z"
    }
   },
   "execution_count": 6,
   "outputs": [
    {
     "name": "stdout",
     "output_type": "stream",
     "text": [
      "Probability of height given sequence: {160: 0.22019458270563988, 170: 0.46938753977303344, 180: 0.15493736960539042, 190: 0.15548050791593632}\n",
      "Probability of weight given sequence: {50: 0.31987029288646424, 65: 0.22918457097625072, 80: 0.17341681239768114, 95: 0.2775283237396038}\n",
      "Probability of blood type given sequence: {'O': 0.2753321437518179, 'A': 0.3647542741870535, 'B': 0.12749216617033832, 'AB': 0.2324214158907902}\n",
      "Probability of DCM given sequence: {'Y': 0.4216714899580485, 'N': 0.5783285100419515}\n"
     ]
    }
   ]
  },
  {
   "cell_type": "markdown",
   "source": [
    "# Bayesian Network for Heart Disease Probability Calculation (30 points)\n",
    "\n",
    "In this section, we introduce a Bayesian network to calculate the probability of heart disease based on various features. We assume that the relationships between features follow a specific structure, depicted in the image below.\n",
    "\n",
    "![Bayesian Net](BN.png)\n",
    "\n",
    "The Bayesian network comprises nodes representing different features, including sex, weight, height, Dilated Cardiomyopathy (DCM), blood type, and heart disease. The directed edges between nodes indicate probabilistic dependencies between them.\n",
    "\n",
    "Function Implementation:\n",
    "We will implement two functions to facilitate the calculation of heart disease probability:\n",
    "\n",
    "1. calculate_sex_probability:\n",
    "\n",
    "  This function calculates the probability of sex based on the given probabilities of weight and height.\n",
    "\n",
    "2. calculate_heart_disease_probability:\n",
    "\n",
    "  This function computes the probability of heart disease based on the probabilities of sex, DCM, and blood type."
   ],
   "metadata": {
    "id": "EglKERkiKrZv"
   }
  },
  {
   "cell_type": "code",
   "source": [
    "# The probability of sex given height and weight, the tuple is in this order: (sex, height, weight)\n",
    "P_sex_given_hw = {\n",
    "    ('M', 160, 50): 0.7, ('F', 160, 50): 0.3,\n",
    "    ('M', 160, 65): 0.2, ('F', 160, 65): 0.8,\n",
    "    ('M', 160, 80): 0.3, ('F', 160, 80): 0.7,\n",
    "    ('M', 160, 95): 0.2, ('F', 160, 95): 0.8,\n",
    "    ('M', 170, 50): 0.8, ('F', 170, 50): 0.2,\n",
    "    ('M', 170, 65): 0.75, ('F', 170, 65): 0.25,\n",
    "    ('M', 170, 80): 0.4, ('F', 170, 80): 0.6,\n",
    "    ('M', 170, 95): 0.3, ('F', 170, 95): 0.7,\n",
    "    ('M', 180, 50): 0.9, ('F', 180, 50): 0.1,\n",
    "    ('M', 180, 65): 0.7, ('F', 180, 65): 0.3,\n",
    "    ('M', 180, 80): 0.65, ('F', 180, 80): 0.35,\n",
    "    ('M', 180, 95): 0.4, ('F', 180, 95): 0.6,\n",
    "    ('M', 190, 50): 0.95, ('F', 190, 50): 0.05,\n",
    "    ('M', 190, 65): 0.8, ('F', 190, 65): 0.2,\n",
    "    ('M', 190, 80): 0.6, ('F', 190, 80): 0.4,\n",
    "    ('M', 190, 95): 0.95, ('F', 190, 95): 0.05\n",
    "}"
   ],
   "metadata": {
    "id": "wi3Rz_6eOCpD",
    "ExecuteTime": {
     "end_time": "2024-05-14T06:17:41.597146Z",
     "start_time": "2024-05-14T06:17:41.586611Z"
    }
   },
   "execution_count": 7,
   "outputs": []
  },
  {
   "cell_type": "code",
   "source": [
    "def calculate_sex_probability(height_prob: dict, weight_prob: dict) -> dict:\n",
    "    '''\n",
    "    This function, `calculate_sex_probability(height_prob, weight_prob)`, computes the probability of sex based on the probabilities of height and weight.\n",
    "\n",
    "    Parameters:\n",
    "    - height_prob: Dictionary containing probabilities for height categories.\n",
    "    - weight_prob: Dictionary containing probabilities for weight categories.\n",
    "\n",
    "    Returns:\n",
    "    - Dictionary containing probabilities for male (M) and female (F) sexes.\n",
    "    '''\n",
    "\n",
    "    sex_dic = {'M': 0, 'F': 1}\n",
    "\n",
    "    sex_probability = np.zeros(2)\n",
    "    \n",
    "    for h, hval in height_prob.items():\n",
    "        for w, wval in weight_prob.items():\n",
    "            for s, sval in sex_dic.items():\n",
    "                sex_probability[sval] += P_sex_given_hw[(s, h, w)] * hval * wval\n",
    "        \n",
    "\n",
    "    # TODO: complete the code\n",
    "\n",
    "    return {'M': sex_probability[0], 'F': sex_probability[1]}\n"
   ],
   "metadata": {
    "id": "p_sCg50LOraD",
    "ExecuteTime": {
     "end_time": "2024-05-14T06:17:41.608435Z",
     "start_time": "2024-05-14T06:17:41.599422Z"
    }
   },
   "execution_count": 8,
   "outputs": []
  },
  {
   "cell_type": "code",
   "source": [
    "# Run this code to test you implementation\n",
    "# Example probabilities of height\n",
    "# P_height = {160: 0.1, 170: 0.3, 180: 0.4, 190: 0.2}\n",
    "P_height = {160: 0.22019458270563988, 170: 0.46938753977303344, 180: 0.15493736960539042, 190: 0.15548050791593632}\n",
    "# Example probabilities of weight\n",
    "# P_weight = {50: 0.2, 65: 0.3, 80: 0.4, 95: 0.1}\n",
    "P_weight = {50: 0.31987029288646424, 65: 0.22918457097625072, 80: 0.17341681239768114, 95: 0.2775283237396038}\n",
    "# Example conditional probabilities of sex given height and weight\n",
    "\n",
    "\n",
    "sex_probabilities = calculate_sex_probability(P_height, P_weight)\n",
    "print(\"Probability of sex:\", sex_probabilities)"
   ],
   "metadata": {
    "colab": {
     "base_uri": "https://localhost:8080/"
    },
    "id": "zChVjCjzOVoZ",
    "executionInfo": {
     "status": "ok",
     "timestamp": 1710794236538,
     "user_tz": -210,
     "elapsed": 389,
     "user": {
      "displayName": "Omid Daliran",
      "userId": "14293939971066168269"
     }
    },
    "outputId": "81cfd99f-d550-4799-8e05-747b1a967f84",
    "ExecuteTime": {
     "end_time": "2024-05-14T06:17:41.617412Z",
     "start_time": "2024-05-14T06:17:41.610637Z"
    }
   },
   "execution_count": 9,
   "outputs": [
    {
     "name": "stdout",
     "output_type": "stream",
     "text": [
      "Probability of sex: {'M': 0.5925607183118222, 'F': 0.4074392816881778}\n"
     ]
    }
   ]
  },
  {
   "cell_type": "code",
   "source": [
    "# The probability of hear disease given sex, DCM and blood type, the tuple is in this order: (heart disease, sex, blood type, DCM)\n",
    "P_heart_disease_given_parents = {\n",
    "    ('N', 'M', 'O', 'Y'): 0.3, ('Y', 'M', 'O', 'Y'): 0.7,\n",
    "    ('N', 'M', 'A', 'Y'): 0.4, ('Y', 'M', 'A', 'Y'): 0.6,\n",
    "    ('N', 'M', 'B', 'Y'): 0.5, ('Y', 'M', 'B', 'Y'): 0.5,\n",
    "    ('N', 'M', 'AB', 'Y'): 0.6, ('Y', 'M', 'AB', 'Y'): 0.4,\n",
    "    ('N', 'F', 'O', 'Y'): 0.6, ('Y', 'F', 'O', 'Y'): 0.4,\n",
    "    ('N', 'F', 'A', 'Y'): 0.3, ('Y', 'F', 'A', 'Y'): 0.7,\n",
    "    ('N', 'F', 'B', 'Y'): 0.4, ('Y', 'F', 'B', 'Y'): 0.6,\n",
    "    ('N', 'F', 'AB', 'Y'): 0.7, ('Y', 'F', 'AB', 'Y'): 0.3,\n",
    "    ('N', 'M', 'O', 'N'): 0.6, ('Y', 'M', 'O', 'N'): 0.4,\n",
    "    ('N', 'M', 'A', 'N'): 0.15, ('Y', 'M', 'A', 'N'): 0.85,\n",
    "    ('N', 'M', 'B', 'N'): 0.4, ('Y', 'M', 'B', 'N'): 0.6,\n",
    "    ('N', 'M', 'AB', 'N'): 0.7, ('Y', 'M', 'AB', 'N'): 0.3,\n",
    "    ('N', 'F', 'O', 'N'): 0.8, ('Y', 'F', 'O', 'N'): 0.2,\n",
    "    ('N', 'F', 'A', 'N'): 0.7, ('Y', 'F', 'A', 'N'): 0.3,\n",
    "    ('N', 'F', 'B', 'N'): 0.65, ('Y', 'F', 'B', 'N'): 0.35,\n",
    "    ('N', 'F', 'AB', 'N'): 0.35, ('Y', 'F', 'AB', 'N'): 0.65,\n",
    "}"
   ],
   "metadata": {
    "id": "mRooypaNPDr5",
    "ExecuteTime": {
     "end_time": "2024-05-14T06:17:41.628199Z",
     "start_time": "2024-05-14T06:17:41.619115Z"
    }
   },
   "execution_count": 10,
   "outputs": []
  },
  {
   "cell_type": "code",
   "source": [
    "def calculate_heart_disease_probability(DCM_prob: dict, sex_prob: dict, blood_type_prob: dict) -> dict:\n",
    "    '''\n",
    "    Function: Calculate Heart Disease Probability\n",
    "\n",
    "    This function, `calculate_heart_disease_probability(DCM_prob, sex_prob, blood_type_prob, heart_disease_given_parents)`, computes the probability of heart disease based on the probabilities of Dilated Cardiomyopathy (DCM), sex, and blood type.\n",
    "\n",
    "    Parameters:\n",
    "    - DCM_prob: Dictionary containing probabilities for DCM categories.\n",
    "    - sex_prob: Dictionary containing probabilities for sex categories.\n",
    "    - blood_type_prob: Dictionary containing probabilities for blood type categories.\n",
    "\n",
    "    Returns:\n",
    "    - Dictionary containing probabilities for the presence (Y) and absence (N) of heart disease.\n",
    "    '''\n",
    "\n",
    "    heart_disease_dic = {'Y': 0, 'N': 1}\n",
    "\n",
    "    heart_disease_probability = np.zeros(2)\n",
    "    \n",
    "    for d, dval in DCM_prob.items():\n",
    "        for s, sval in sex_prob.items():\n",
    "            for b, bval in blood_type_prob.items():\n",
    "                for h, hval in heart_disease_dic.items():\n",
    "                    heart_disease_probability[hval] += P_heart_disease_given_parents[(h, s, b, d)] * sval * bval * dval\n",
    "\n",
    "    # TODO: complete the code\n",
    "\n",
    "    return {'Y': heart_disease_probability[0], 'N': heart_disease_probability[1]}\n"
   ],
   "metadata": {
    "id": "yIG7zuoyPiiN",
    "ExecuteTime": {
     "end_time": "2024-05-14T06:17:41.640845Z",
     "start_time": "2024-05-14T06:17:41.631790Z"
    }
   },
   "execution_count": 11,
   "outputs": []
  },
  {
   "cell_type": "code",
   "source": [
    "# Run this code to test you implementation\n",
    "# Example probabilities of DCM\n",
    "# P_DCM = {'Y': 0.2, 'N': 0.8}\n",
    "P_DCM = {'Y': 0.4216714899580485, 'N': 0.5783285100419515}\n",
    "# Example probabilities of blood type\n",
    "# P_blood_type = {'O': 0.4, 'A': 0.3, 'B': 0.2, 'AB': 0.1}\n",
    "P_blood_type = {'O': 0.2753321437518179, 'A': 0.3647542741870535, 'B': 0.12749216617033832, 'AB': 0.2324214158907902}\n",
    "# Example probabilities of sex\n",
    "# P_sex = {'M': 0.3, 'F': 0.7}\n",
    "P_sex = {'M': 0.5925607183118222, 'F': 0.4074392816881778}\n",
    "\n",
    "heart_disease_probabilities = calculate_heart_disease_probability(P_DCM, P_sex, P_blood_type)\n",
    "print(\"Probability of heart disease: \", heart_disease_probabilities)"
   ],
   "metadata": {
    "colab": {
     "base_uri": "https://localhost:8080/"
    },
    "id": "QA0XWltJPXJL",
    "executionInfo": {
     "status": "ok",
     "timestamp": 1710794311998,
     "user_tz": -210,
     "elapsed": 412,
     "user": {
      "displayName": "Omid Daliran",
      "userId": "14293939971066168269"
     }
    },
    "outputId": "3c03135f-07ed-4fb3-9205-2b3745c878e5",
    "ExecuteTime": {
     "end_time": "2024-05-14T06:17:41.649885Z",
     "start_time": "2024-05-14T06:17:41.643013Z"
    }
   },
   "execution_count": 12,
   "outputs": [
    {
     "name": "stdout",
     "output_type": "stream",
     "text": [
      "Probability of heart disease:  {'Y': 0.5088821514178744, 'N': 0.4911178485821254}\n"
     ]
    }
   ]
  },
  {
   "cell_type": "markdown",
   "source": [
    "# Loading DNA Sequences and Heart Disease Probability Calculation (20 points)\n",
    "\n",
    "In this part, we will load the DNA sequences from the file DNA_patients.csv and calculate the probability of heart disease for each patient. Subsequently, we will classify the patients based on their heart disease probability and save the data."
   ],
   "metadata": {
    "id": "i-T4axv2P2n3"
   }
  },
  {
   "cell_type": "code",
   "source": [
    "# Read the CSV file into a DataFrame\n",
    "df = pd.read_csv('DNA_patients.csv')\n",
    "\n",
    "df.head()"
   ],
   "metadata": {
    "colab": {
     "base_uri": "https://localhost:8080/",
     "height": 206
    },
    "id": "AdJEmpbNSuV9",
    "executionInfo": {
     "status": "ok",
     "timestamp": 1710793762398,
     "user_tz": -210,
     "elapsed": 636,
     "user": {
      "displayName": "Omid Daliran",
      "userId": "14293939971066168269"
     }
    },
    "outputId": "64eb2ab6-283a-45f1-aecd-71eaa83724ac",
    "ExecuteTime": {
     "end_time": "2024-05-14T06:17:41.700372Z",
     "start_time": "2024-05-14T06:17:41.651845Z"
    }
   },
   "execution_count": 13,
   "outputs": [
    {
     "data": {
      "text/plain": "   ID                                                DNA\n0   1  CTCCAATACCCCCCACAAGAACACACCCATAAAATTGCAACCCACA...\n1   2  TTGATGTAGAAGTATATTTGTTGGGTATTTGAGGTAACGTTATTAG...\n2   3  ATATAATTTAAAGTCACTGGAAAAAAACAACCTAATAAAAACCACC...\n3   4  TAAAGACAAAATTAAATTGAAGTAATGTTATGTTAAAATTTTGAAT...\n4   5  AGCGTTTGTTCGTTAGCCGTAGGCAATGACGTGATTCAGGTCTGTG...",
      "text/html": "<div>\n<style scoped>\n    .dataframe tbody tr th:only-of-type {\n        vertical-align: middle;\n    }\n\n    .dataframe tbody tr th {\n        vertical-align: top;\n    }\n\n    .dataframe thead th {\n        text-align: right;\n    }\n</style>\n<table border=\"1\" class=\"dataframe\">\n  <thead>\n    <tr style=\"text-align: right;\">\n      <th></th>\n      <th>ID</th>\n      <th>DNA</th>\n    </tr>\n  </thead>\n  <tbody>\n    <tr>\n      <th>0</th>\n      <td>1</td>\n      <td>CTCCAATACCCCCCACAAGAACACACCCATAAAATTGCAACCCACA...</td>\n    </tr>\n    <tr>\n      <th>1</th>\n      <td>2</td>\n      <td>TTGATGTAGAAGTATATTTGTTGGGTATTTGAGGTAACGTTATTAG...</td>\n    </tr>\n    <tr>\n      <th>2</th>\n      <td>3</td>\n      <td>ATATAATTTAAAGTCACTGGAAAAAAACAACCTAATAAAAACCACC...</td>\n    </tr>\n    <tr>\n      <th>3</th>\n      <td>4</td>\n      <td>TAAAGACAAAATTAAATTGAAGTAATGTTATGTTAAAATTTTGAAT...</td>\n    </tr>\n    <tr>\n      <th>4</th>\n      <td>5</td>\n      <td>AGCGTTTGTTCGTTAGCCGTAGGCAATGACGTGATTCAGGTCTGTG...</td>\n    </tr>\n  </tbody>\n</table>\n</div>"
     },
     "execution_count": 13,
     "metadata": {},
     "output_type": "execute_result"
    }
   ]
  },
  {
   "cell_type": "code",
   "source": [
    "# TODO: complete the code\n",
    "# Extract DNA sequences and store them in a list\n",
    "DNAs = df['DNA']\n",
    "\n",
    "states = ['H', 'L']\n",
    "emissions = [{'A': 0.2, 'C': 0.3, 'G': 0.3, 'T': 0.2}, {'A': 0.3, 'C': 0.2, 'G': 0.2, 'T': 0.3}]\n",
    "start_probabilities = [0.5, 0.5]\n",
    "transition_probabilities = [{'H': 0.5, 'L': 0.5}, {'H': 0.4, 'L': 0.6}]\n",
    "\n",
    "hmm = HMM(states, emissions, start_probabilities, transition_probabilities)\n",
    "\n",
    "GC_content_seqs = []\n",
    "\n",
    "for seq in DNAs:\n",
    "    path, max_probability = hmm.viterbi(seq)\n",
    "    GC_content_seqs.append(path)"
   ],
   "metadata": {
    "id": "0983HNjhlDa1",
    "ExecuteTime": {
     "end_time": "2024-05-14T06:17:42.671778Z",
     "start_time": "2024-05-14T06:17:41.702493Z"
    }
   },
   "execution_count": 14,
   "outputs": []
  },
  {
   "cell_type": "code",
   "source": [
    "# TODO: complete the code, classify the Patients as 1 if the probability of heart disease is more that 0.5 and 0 otherwise\n",
    "heart_disease_classified = []\n",
    "\n",
    "for seq in GC_content_seqs:\n",
    "  h_prob, w_prob, b_prob, D_prob = probabilities_from_sequence(seq)\n",
    "  s_prob = calculate_sex_probability(h_prob, w_prob)\n",
    "  d_prob = calculate_heart_disease_probability(D_prob, s_prob, b_prob)\n",
    "  heart_disease_classified.append(1 if d_prob['Y'] > 0.5 else 0)\n"
   ],
   "metadata": {
    "id": "-65oY4N5lqHk",
    "ExecuteTime": {
     "end_time": "2024-05-14T06:17:49.056657Z",
     "start_time": "2024-05-14T06:17:42.691379Z"
    }
   },
   "execution_count": 15,
   "outputs": []
  },
  {
   "cell_type": "code",
   "source": [
    "# Write the result to CSV\n",
    "labels = [(i + 1, heart_disease_classified[i]) for i in range(len(heart_disease_classified))]\n",
    "csv_filename = \"heart_disease_result.csv\"\n",
    "with open(csv_filename, mode='w', newline='') as file:\n",
    "    writer = csv.writer(file)\n",
    "    writer.writerow(['ID', 'Label'])\n",
    "    for id, label in labels:\n",
    "        writer.writerow([id, label])"
   ],
   "metadata": {
    "id": "GU9WNiH7W6y-",
    "ExecuteTime": {
     "end_time": "2024-05-14T06:17:49.067656Z",
     "start_time": "2024-05-14T06:17:49.057973Z"
    }
   },
   "execution_count": 16,
   "outputs": []
  },
  {
   "cell_type": "markdown",
   "source": [
    "**Note: You should upload heart_disease_result.csv along side your notebook.**"
   ],
   "metadata": {
    "id": "w1nu_AHq1E4g"
   }
  }
 ]
}
